{
  "nbformat": 4,
  "nbformat_minor": 0,
  "metadata": {
    "colab": {
      "name": "Telcom3.ipynb",
      "provenance": [],
      "collapsed_sections": []
    },
    "kernelspec": {
      "name": "python3",
      "display_name": "Python 3"
    },
    "language_info": {
      "name": "python"
    }
  },
  "cells": [
    {
      "cell_type": "code",
      "metadata": {
        "id": "FeGEhXM845Lz"
      },
      "source": [
        "import pandas as pd\n",
        "import numpy as np"
      ],
      "execution_count": 1,
      "outputs": []
    },
    {
      "cell_type": "code",
      "metadata": {
        "colab": {
          "base_uri": "https://localhost:8080/"
        },
        "id": "yf13Fbp24_2P",
        "outputId": "e3b6b51e-4300-431c-c79c-94373a9cf49c"
      },
      "source": [
        "from google.colab import drive\n",
        "drive.mount('/content/gdrive', force_remount=True)"
      ],
      "execution_count": 2,
      "outputs": [
        {
          "output_type": "stream",
          "text": [
            "Mounted at /content/gdrive\n"
          ],
          "name": "stdout"
        }
      ]
    },
    {
      "cell_type": "code",
      "metadata": {
        "colab": {
          "base_uri": "https://localhost:8080/",
          "height": 509
        },
        "id": "wUApdpyW5Cz1",
        "outputId": "dbf35db1-12a1-407c-8312-90e58705703f"
      },
      "source": [
        "import warnings\n",
        "warnings.filterwarnings('ignore')\n",
        "pd.set_option('max_column', None)\n",
        "data= pd.read_csv(\"/content/gdrive/MyDrive/Week-1/data/Week1_challenge_data_source(CSV).csv\", na_values=['?', None])\n",
        "data.head()"
      ],
      "execution_count": 3,
      "outputs": [
        {
          "output_type": "execute_result",
          "data": {
            "text/html": [
              "<div>\n",
              "<style scoped>\n",
              "    .dataframe tbody tr th:only-of-type {\n",
              "        vertical-align: middle;\n",
              "    }\n",
              "\n",
              "    .dataframe tbody tr th {\n",
              "        vertical-align: top;\n",
              "    }\n",
              "\n",
              "    .dataframe thead th {\n",
              "        text-align: right;\n",
              "    }\n",
              "</style>\n",
              "<table border=\"1\" class=\"dataframe\">\n",
              "  <thead>\n",
              "    <tr style=\"text-align: right;\">\n",
              "      <th></th>\n",
              "      <th>Bearer Id</th>\n",
              "      <th>Start</th>\n",
              "      <th>Start ms</th>\n",
              "      <th>End</th>\n",
              "      <th>End ms</th>\n",
              "      <th>Dur. (ms)</th>\n",
              "      <th>IMSI</th>\n",
              "      <th>MSISDN/Number</th>\n",
              "      <th>IMEI</th>\n",
              "      <th>Last Location Name</th>\n",
              "      <th>Avg RTT DL (ms)</th>\n",
              "      <th>Avg RTT UL (ms)</th>\n",
              "      <th>Avg Bearer TP DL (kbps)</th>\n",
              "      <th>Avg Bearer TP UL (kbps)</th>\n",
              "      <th>TCP DL Retrans. Vol (Bytes)</th>\n",
              "      <th>TCP UL Retrans. Vol (Bytes)</th>\n",
              "      <th>DL TP &lt; 50 Kbps (%)</th>\n",
              "      <th>50 Kbps &lt; DL TP &lt; 250 Kbps (%)</th>\n",
              "      <th>250 Kbps &lt; DL TP &lt; 1 Mbps (%)</th>\n",
              "      <th>DL TP &gt; 1 Mbps (%)</th>\n",
              "      <th>UL TP &lt; 10 Kbps (%)</th>\n",
              "      <th>10 Kbps &lt; UL TP &lt; 50 Kbps (%)</th>\n",
              "      <th>50 Kbps &lt; UL TP &lt; 300 Kbps (%)</th>\n",
              "      <th>UL TP &gt; 300 Kbps (%)</th>\n",
              "      <th>HTTP DL (Bytes)</th>\n",
              "      <th>HTTP UL (Bytes)</th>\n",
              "      <th>Activity Duration DL (ms)</th>\n",
              "      <th>Activity Duration UL (ms)</th>\n",
              "      <th>Dur. (ms).1</th>\n",
              "      <th>Handset Manufacturer</th>\n",
              "      <th>Handset Type</th>\n",
              "      <th>Nb of sec with 125000B &lt; Vol DL</th>\n",
              "      <th>Nb of sec with 1250B &lt; Vol UL &lt; 6250B</th>\n",
              "      <th>Nb of sec with 31250B &lt; Vol DL &lt; 125000B</th>\n",
              "      <th>Nb of sec with 37500B &lt; Vol UL</th>\n",
              "      <th>Nb of sec with 6250B &lt; Vol DL &lt; 31250B</th>\n",
              "      <th>Nb of sec with 6250B &lt; Vol UL &lt; 37500B</th>\n",
              "      <th>Nb of sec with Vol DL &lt; 6250B</th>\n",
              "      <th>Nb of sec with Vol UL &lt; 1250B</th>\n",
              "      <th>Social Media DL (Bytes)</th>\n",
              "      <th>Social Media UL (Bytes)</th>\n",
              "      <th>Google DL (Bytes)</th>\n",
              "      <th>Google UL (Bytes)</th>\n",
              "      <th>Email DL (Bytes)</th>\n",
              "      <th>Email UL (Bytes)</th>\n",
              "      <th>Youtube DL (Bytes)</th>\n",
              "      <th>Youtube UL (Bytes)</th>\n",
              "      <th>Netflix DL (Bytes)</th>\n",
              "      <th>Netflix UL (Bytes)</th>\n",
              "      <th>Gaming DL (Bytes)</th>\n",
              "      <th>Gaming UL (Bytes)</th>\n",
              "      <th>Other DL (Bytes)</th>\n",
              "      <th>Other UL (Bytes)</th>\n",
              "      <th>Total UL (Bytes)</th>\n",
              "      <th>Total DL (Bytes)</th>\n",
              "    </tr>\n",
              "  </thead>\n",
              "  <tbody>\n",
              "    <tr>\n",
              "      <th>0</th>\n",
              "      <td>1.311448e+19</td>\n",
              "      <td>4/4/2019 12:01</td>\n",
              "      <td>770.0</td>\n",
              "      <td>4/25/2019 14:35</td>\n",
              "      <td>662.0</td>\n",
              "      <td>1823652.0</td>\n",
              "      <td>2.082014e+14</td>\n",
              "      <td>3.366496e+10</td>\n",
              "      <td>3.552121e+13</td>\n",
              "      <td>9.16456699548519E+015</td>\n",
              "      <td>42.0</td>\n",
              "      <td>5.0</td>\n",
              "      <td>23.0</td>\n",
              "      <td>44.0</td>\n",
              "      <td>NaN</td>\n",
              "      <td>NaN</td>\n",
              "      <td>100.0</td>\n",
              "      <td>0.0</td>\n",
              "      <td>0.0</td>\n",
              "      <td>0.0</td>\n",
              "      <td>100.0</td>\n",
              "      <td>0.0</td>\n",
              "      <td>0.0</td>\n",
              "      <td>0.0</td>\n",
              "      <td>NaN</td>\n",
              "      <td>NaN</td>\n",
              "      <td>37624.0</td>\n",
              "      <td>38787.0</td>\n",
              "      <td>1.823653e+09</td>\n",
              "      <td>Samsung</td>\n",
              "      <td>Samsung Galaxy A5 Sm-A520F</td>\n",
              "      <td>NaN</td>\n",
              "      <td>NaN</td>\n",
              "      <td>NaN</td>\n",
              "      <td>NaN</td>\n",
              "      <td>NaN</td>\n",
              "      <td>NaN</td>\n",
              "      <td>213.0</td>\n",
              "      <td>214.0</td>\n",
              "      <td>1545765.0</td>\n",
              "      <td>24420.0</td>\n",
              "      <td>1634479.0</td>\n",
              "      <td>1271433.0</td>\n",
              "      <td>3563542.0</td>\n",
              "      <td>137762.0</td>\n",
              "      <td>15854611.0</td>\n",
              "      <td>2501332.0</td>\n",
              "      <td>8198936.0</td>\n",
              "      <td>9656251.0</td>\n",
              "      <td>278082303.0</td>\n",
              "      <td>14344150.0</td>\n",
              "      <td>171744450.0</td>\n",
              "      <td>8814393.0</td>\n",
              "      <td>36749741.0</td>\n",
              "      <td>308879636.0</td>\n",
              "    </tr>\n",
              "    <tr>\n",
              "      <th>1</th>\n",
              "      <td>1.311448e+19</td>\n",
              "      <td>4/9/2019 13:04</td>\n",
              "      <td>235.0</td>\n",
              "      <td>4/25/2019 8:15</td>\n",
              "      <td>606.0</td>\n",
              "      <td>1365104.0</td>\n",
              "      <td>2.082019e+14</td>\n",
              "      <td>3.368185e+10</td>\n",
              "      <td>3.579401e+13</td>\n",
              "      <td>L77566A</td>\n",
              "      <td>65.0</td>\n",
              "      <td>5.0</td>\n",
              "      <td>16.0</td>\n",
              "      <td>26.0</td>\n",
              "      <td>NaN</td>\n",
              "      <td>NaN</td>\n",
              "      <td>100.0</td>\n",
              "      <td>0.0</td>\n",
              "      <td>0.0</td>\n",
              "      <td>0.0</td>\n",
              "      <td>100.0</td>\n",
              "      <td>0.0</td>\n",
              "      <td>0.0</td>\n",
              "      <td>0.0</td>\n",
              "      <td>NaN</td>\n",
              "      <td>NaN</td>\n",
              "      <td>168.0</td>\n",
              "      <td>3560.0</td>\n",
              "      <td>1.365104e+09</td>\n",
              "      <td>Samsung</td>\n",
              "      <td>Samsung Galaxy J5 (Sm-J530)</td>\n",
              "      <td>NaN</td>\n",
              "      <td>NaN</td>\n",
              "      <td>NaN</td>\n",
              "      <td>NaN</td>\n",
              "      <td>NaN</td>\n",
              "      <td>NaN</td>\n",
              "      <td>971.0</td>\n",
              "      <td>1022.0</td>\n",
              "      <td>1926113.0</td>\n",
              "      <td>7165.0</td>\n",
              "      <td>3493924.0</td>\n",
              "      <td>920172.0</td>\n",
              "      <td>629046.0</td>\n",
              "      <td>308339.0</td>\n",
              "      <td>20247395.0</td>\n",
              "      <td>19111729.0</td>\n",
              "      <td>18338413.0</td>\n",
              "      <td>17227132.0</td>\n",
              "      <td>608750074.0</td>\n",
              "      <td>1170709.0</td>\n",
              "      <td>526904238.0</td>\n",
              "      <td>15055145.0</td>\n",
              "      <td>53800391.0</td>\n",
              "      <td>653384965.0</td>\n",
              "    </tr>\n",
              "    <tr>\n",
              "      <th>2</th>\n",
              "      <td>1.311448e+19</td>\n",
              "      <td>4/9/2019 17:42</td>\n",
              "      <td>1.0</td>\n",
              "      <td>4/25/2019 11:58</td>\n",
              "      <td>652.0</td>\n",
              "      <td>1361762.0</td>\n",
              "      <td>2.082003e+14</td>\n",
              "      <td>3.376063e+10</td>\n",
              "      <td>3.528151e+13</td>\n",
              "      <td>D42335A</td>\n",
              "      <td>NaN</td>\n",
              "      <td>NaN</td>\n",
              "      <td>6.0</td>\n",
              "      <td>9.0</td>\n",
              "      <td>NaN</td>\n",
              "      <td>NaN</td>\n",
              "      <td>100.0</td>\n",
              "      <td>0.0</td>\n",
              "      <td>0.0</td>\n",
              "      <td>0.0</td>\n",
              "      <td>100.0</td>\n",
              "      <td>0.0</td>\n",
              "      <td>0.0</td>\n",
              "      <td>0.0</td>\n",
              "      <td>NaN</td>\n",
              "      <td>NaN</td>\n",
              "      <td>0.0</td>\n",
              "      <td>0.0</td>\n",
              "      <td>1.361763e+09</td>\n",
              "      <td>Samsung</td>\n",
              "      <td>Samsung Galaxy A8 (2018)</td>\n",
              "      <td>NaN</td>\n",
              "      <td>NaN</td>\n",
              "      <td>NaN</td>\n",
              "      <td>NaN</td>\n",
              "      <td>NaN</td>\n",
              "      <td>NaN</td>\n",
              "      <td>751.0</td>\n",
              "      <td>695.0</td>\n",
              "      <td>1684053.0</td>\n",
              "      <td>42224.0</td>\n",
              "      <td>8535055.0</td>\n",
              "      <td>1694064.0</td>\n",
              "      <td>2690151.0</td>\n",
              "      <td>672973.0</td>\n",
              "      <td>19725661.0</td>\n",
              "      <td>14699576.0</td>\n",
              "      <td>17587794.0</td>\n",
              "      <td>6163408.0</td>\n",
              "      <td>229584621.0</td>\n",
              "      <td>395630.0</td>\n",
              "      <td>410692588.0</td>\n",
              "      <td>4215763.0</td>\n",
              "      <td>27883638.0</td>\n",
              "      <td>279807335.0</td>\n",
              "    </tr>\n",
              "    <tr>\n",
              "      <th>3</th>\n",
              "      <td>1.311448e+19</td>\n",
              "      <td>4/10/2019 0:31</td>\n",
              "      <td>486.0</td>\n",
              "      <td>4/25/2019 7:36</td>\n",
              "      <td>171.0</td>\n",
              "      <td>1321509.0</td>\n",
              "      <td>2.082014e+14</td>\n",
              "      <td>3.375034e+10</td>\n",
              "      <td>3.535661e+13</td>\n",
              "      <td>T21824A</td>\n",
              "      <td>NaN</td>\n",
              "      <td>NaN</td>\n",
              "      <td>44.0</td>\n",
              "      <td>44.0</td>\n",
              "      <td>NaN</td>\n",
              "      <td>NaN</td>\n",
              "      <td>100.0</td>\n",
              "      <td>0.0</td>\n",
              "      <td>0.0</td>\n",
              "      <td>0.0</td>\n",
              "      <td>100.0</td>\n",
              "      <td>0.0</td>\n",
              "      <td>0.0</td>\n",
              "      <td>0.0</td>\n",
              "      <td>NaN</td>\n",
              "      <td>NaN</td>\n",
              "      <td>3330.0</td>\n",
              "      <td>37882.0</td>\n",
              "      <td>1.321510e+09</td>\n",
              "      <td>undefined</td>\n",
              "      <td>undefined</td>\n",
              "      <td>NaN</td>\n",
              "      <td>NaN</td>\n",
              "      <td>NaN</td>\n",
              "      <td>NaN</td>\n",
              "      <td>NaN</td>\n",
              "      <td>NaN</td>\n",
              "      <td>17.0</td>\n",
              "      <td>207.0</td>\n",
              "      <td>644121.0</td>\n",
              "      <td>13372.0</td>\n",
              "      <td>9023734.0</td>\n",
              "      <td>2788027.0</td>\n",
              "      <td>1439754.0</td>\n",
              "      <td>631229.0</td>\n",
              "      <td>21388122.0</td>\n",
              "      <td>15146643.0</td>\n",
              "      <td>13994646.0</td>\n",
              "      <td>1097942.0</td>\n",
              "      <td>799538153.0</td>\n",
              "      <td>10849722.0</td>\n",
              "      <td>749039933.0</td>\n",
              "      <td>12797283.0</td>\n",
              "      <td>43324218.0</td>\n",
              "      <td>846028530.0</td>\n",
              "    </tr>\n",
              "    <tr>\n",
              "      <th>4</th>\n",
              "      <td>1.311448e+19</td>\n",
              "      <td>4/12/2019 20:10</td>\n",
              "      <td>565.0</td>\n",
              "      <td>4/25/2019 10:40</td>\n",
              "      <td>954.0</td>\n",
              "      <td>1089009.0</td>\n",
              "      <td>2.082014e+14</td>\n",
              "      <td>3.369980e+10</td>\n",
              "      <td>3.540701e+13</td>\n",
              "      <td>D88865A</td>\n",
              "      <td>NaN</td>\n",
              "      <td>NaN</td>\n",
              "      <td>6.0</td>\n",
              "      <td>9.0</td>\n",
              "      <td>NaN</td>\n",
              "      <td>NaN</td>\n",
              "      <td>100.0</td>\n",
              "      <td>0.0</td>\n",
              "      <td>0.0</td>\n",
              "      <td>0.0</td>\n",
              "      <td>100.0</td>\n",
              "      <td>0.0</td>\n",
              "      <td>0.0</td>\n",
              "      <td>0.0</td>\n",
              "      <td>NaN</td>\n",
              "      <td>NaN</td>\n",
              "      <td>0.0</td>\n",
              "      <td>0.0</td>\n",
              "      <td>1.089009e+09</td>\n",
              "      <td>Samsung</td>\n",
              "      <td>Samsung Sm-G390F</td>\n",
              "      <td>NaN</td>\n",
              "      <td>NaN</td>\n",
              "      <td>NaN</td>\n",
              "      <td>NaN</td>\n",
              "      <td>NaN</td>\n",
              "      <td>NaN</td>\n",
              "      <td>607.0</td>\n",
              "      <td>604.0</td>\n",
              "      <td>862600.0</td>\n",
              "      <td>50188.0</td>\n",
              "      <td>6248284.0</td>\n",
              "      <td>1500559.0</td>\n",
              "      <td>1936496.0</td>\n",
              "      <td>173853.0</td>\n",
              "      <td>15259380.0</td>\n",
              "      <td>18962873.0</td>\n",
              "      <td>17124581.0</td>\n",
              "      <td>415218.0</td>\n",
              "      <td>527707248.0</td>\n",
              "      <td>3529801.0</td>\n",
              "      <td>550709500.0</td>\n",
              "      <td>13910322.0</td>\n",
              "      <td>38542814.0</td>\n",
              "      <td>569138589.0</td>\n",
              "    </tr>\n",
              "  </tbody>\n",
              "</table>\n",
              "</div>"
            ],
            "text/plain": [
              "      Bearer Id            Start  Start ms              End  End ms  \\\n",
              "0  1.311448e+19   4/4/2019 12:01     770.0  4/25/2019 14:35   662.0   \n",
              "1  1.311448e+19   4/9/2019 13:04     235.0   4/25/2019 8:15   606.0   \n",
              "2  1.311448e+19   4/9/2019 17:42       1.0  4/25/2019 11:58   652.0   \n",
              "3  1.311448e+19   4/10/2019 0:31     486.0   4/25/2019 7:36   171.0   \n",
              "4  1.311448e+19  4/12/2019 20:10     565.0  4/25/2019 10:40   954.0   \n",
              "\n",
              "   Dur. (ms)          IMSI  MSISDN/Number          IMEI  \\\n",
              "0  1823652.0  2.082014e+14   3.366496e+10  3.552121e+13   \n",
              "1  1365104.0  2.082019e+14   3.368185e+10  3.579401e+13   \n",
              "2  1361762.0  2.082003e+14   3.376063e+10  3.528151e+13   \n",
              "3  1321509.0  2.082014e+14   3.375034e+10  3.535661e+13   \n",
              "4  1089009.0  2.082014e+14   3.369980e+10  3.540701e+13   \n",
              "\n",
              "      Last Location Name  Avg RTT DL (ms)  Avg RTT UL (ms)  \\\n",
              "0  9.16456699548519E+015             42.0              5.0   \n",
              "1                L77566A             65.0              5.0   \n",
              "2                D42335A              NaN              NaN   \n",
              "3                T21824A              NaN              NaN   \n",
              "4                D88865A              NaN              NaN   \n",
              "\n",
              "   Avg Bearer TP DL (kbps)  Avg Bearer TP UL (kbps)  \\\n",
              "0                     23.0                     44.0   \n",
              "1                     16.0                     26.0   \n",
              "2                      6.0                      9.0   \n",
              "3                     44.0                     44.0   \n",
              "4                      6.0                      9.0   \n",
              "\n",
              "   TCP DL Retrans. Vol (Bytes)  TCP UL Retrans. Vol (Bytes)  \\\n",
              "0                          NaN                          NaN   \n",
              "1                          NaN                          NaN   \n",
              "2                          NaN                          NaN   \n",
              "3                          NaN                          NaN   \n",
              "4                          NaN                          NaN   \n",
              "\n",
              "   DL TP < 50 Kbps (%)  50 Kbps < DL TP < 250 Kbps (%)  \\\n",
              "0                100.0                             0.0   \n",
              "1                100.0                             0.0   \n",
              "2                100.0                             0.0   \n",
              "3                100.0                             0.0   \n",
              "4                100.0                             0.0   \n",
              "\n",
              "   250 Kbps < DL TP < 1 Mbps (%)  DL TP > 1 Mbps (%)  UL TP < 10 Kbps (%)  \\\n",
              "0                            0.0                 0.0                100.0   \n",
              "1                            0.0                 0.0                100.0   \n",
              "2                            0.0                 0.0                100.0   \n",
              "3                            0.0                 0.0                100.0   \n",
              "4                            0.0                 0.0                100.0   \n",
              "\n",
              "   10 Kbps < UL TP < 50 Kbps (%)  50 Kbps < UL TP < 300 Kbps (%)  \\\n",
              "0                            0.0                             0.0   \n",
              "1                            0.0                             0.0   \n",
              "2                            0.0                             0.0   \n",
              "3                            0.0                             0.0   \n",
              "4                            0.0                             0.0   \n",
              "\n",
              "   UL TP > 300 Kbps (%)  HTTP DL (Bytes)  HTTP UL (Bytes)  \\\n",
              "0                   0.0              NaN              NaN   \n",
              "1                   0.0              NaN              NaN   \n",
              "2                   0.0              NaN              NaN   \n",
              "3                   0.0              NaN              NaN   \n",
              "4                   0.0              NaN              NaN   \n",
              "\n",
              "   Activity Duration DL (ms)  Activity Duration UL (ms)   Dur. (ms).1  \\\n",
              "0                    37624.0                    38787.0  1.823653e+09   \n",
              "1                      168.0                     3560.0  1.365104e+09   \n",
              "2                        0.0                        0.0  1.361763e+09   \n",
              "3                     3330.0                    37882.0  1.321510e+09   \n",
              "4                        0.0                        0.0  1.089009e+09   \n",
              "\n",
              "  Handset Manufacturer                 Handset Type  \\\n",
              "0              Samsung   Samsung Galaxy A5 Sm-A520F   \n",
              "1              Samsung  Samsung Galaxy J5 (Sm-J530)   \n",
              "2              Samsung     Samsung Galaxy A8 (2018)   \n",
              "3            undefined                    undefined   \n",
              "4              Samsung             Samsung Sm-G390F   \n",
              "\n",
              "   Nb of sec with 125000B < Vol DL  Nb of sec with 1250B < Vol UL < 6250B  \\\n",
              "0                              NaN                                    NaN   \n",
              "1                              NaN                                    NaN   \n",
              "2                              NaN                                    NaN   \n",
              "3                              NaN                                    NaN   \n",
              "4                              NaN                                    NaN   \n",
              "\n",
              "   Nb of sec with 31250B < Vol DL < 125000B  Nb of sec with 37500B < Vol UL  \\\n",
              "0                                       NaN                             NaN   \n",
              "1                                       NaN                             NaN   \n",
              "2                                       NaN                             NaN   \n",
              "3                                       NaN                             NaN   \n",
              "4                                       NaN                             NaN   \n",
              "\n",
              "   Nb of sec with 6250B < Vol DL < 31250B  \\\n",
              "0                                     NaN   \n",
              "1                                     NaN   \n",
              "2                                     NaN   \n",
              "3                                     NaN   \n",
              "4                                     NaN   \n",
              "\n",
              "   Nb of sec with 6250B < Vol UL < 37500B  Nb of sec with Vol DL < 6250B  \\\n",
              "0                                     NaN                          213.0   \n",
              "1                                     NaN                          971.0   \n",
              "2                                     NaN                          751.0   \n",
              "3                                     NaN                           17.0   \n",
              "4                                     NaN                          607.0   \n",
              "\n",
              "   Nb of sec with Vol UL < 1250B  Social Media DL (Bytes)  \\\n",
              "0                          214.0                1545765.0   \n",
              "1                         1022.0                1926113.0   \n",
              "2                          695.0                1684053.0   \n",
              "3                          207.0                 644121.0   \n",
              "4                          604.0                 862600.0   \n",
              "\n",
              "   Social Media UL (Bytes)  Google DL (Bytes)  Google UL (Bytes)  \\\n",
              "0                  24420.0          1634479.0          1271433.0   \n",
              "1                   7165.0          3493924.0           920172.0   \n",
              "2                  42224.0          8535055.0          1694064.0   \n",
              "3                  13372.0          9023734.0          2788027.0   \n",
              "4                  50188.0          6248284.0          1500559.0   \n",
              "\n",
              "   Email DL (Bytes)  Email UL (Bytes)  Youtube DL (Bytes)  Youtube UL (Bytes)  \\\n",
              "0         3563542.0          137762.0          15854611.0           2501332.0   \n",
              "1          629046.0          308339.0          20247395.0          19111729.0   \n",
              "2         2690151.0          672973.0          19725661.0          14699576.0   \n",
              "3         1439754.0          631229.0          21388122.0          15146643.0   \n",
              "4         1936496.0          173853.0          15259380.0          18962873.0   \n",
              "\n",
              "   Netflix DL (Bytes)  Netflix UL (Bytes)  Gaming DL (Bytes)  \\\n",
              "0           8198936.0           9656251.0        278082303.0   \n",
              "1          18338413.0          17227132.0        608750074.0   \n",
              "2          17587794.0           6163408.0        229584621.0   \n",
              "3          13994646.0           1097942.0        799538153.0   \n",
              "4          17124581.0            415218.0        527707248.0   \n",
              "\n",
              "   Gaming UL (Bytes)  Other DL (Bytes)  Other UL (Bytes)  Total UL (Bytes)  \\\n",
              "0         14344150.0       171744450.0         8814393.0        36749741.0   \n",
              "1          1170709.0       526904238.0        15055145.0        53800391.0   \n",
              "2           395630.0       410692588.0         4215763.0        27883638.0   \n",
              "3         10849722.0       749039933.0        12797283.0        43324218.0   \n",
              "4          3529801.0       550709500.0        13910322.0        38542814.0   \n",
              "\n",
              "   Total DL (Bytes)  \n",
              "0       308879636.0  \n",
              "1       653384965.0  \n",
              "2       279807335.0  \n",
              "3       846028530.0  \n",
              "4       569138589.0  "
            ]
          },
          "metadata": {
            "tags": []
          },
          "execution_count": 3
        }
      ]
    },
    {
      "cell_type": "code",
      "metadata": {
        "colab": {
          "base_uri": "https://localhost:8080/"
        },
        "id": "A7avh996OU9t",
        "outputId": "793efe33-4d24-4368-d03a-194eed662dab"
      },
      "source": [
        "\n",
        "data.shape"
      ],
      "execution_count": 4,
      "outputs": [
        {
          "output_type": "execute_result",
          "data": {
            "text/plain": [
              "(150001, 55)"
            ]
          },
          "metadata": {
            "tags": []
          },
          "execution_count": 4
        }
      ]
    },
    {
      "cell_type": "code",
      "metadata": {
        "colab": {
          "base_uri": "https://localhost:8080/"
        },
        "id": "sWusgXzzOVs2",
        "outputId": "97da8aff-675c-4dd9-e1f5-bd191510cdfe"
      },
      "source": [
        "\n",
        "data.info()"
      ],
      "execution_count": 5,
      "outputs": [
        {
          "output_type": "stream",
          "text": [
            "<class 'pandas.core.frame.DataFrame'>\n",
            "RangeIndex: 150001 entries, 0 to 150000\n",
            "Data columns (total 55 columns):\n",
            " #   Column                                    Non-Null Count   Dtype  \n",
            "---  ------                                    --------------   -----  \n",
            " 0   Bearer Id                                 149010 non-null  float64\n",
            " 1   Start                                     150000 non-null  object \n",
            " 2   Start ms                                  150000 non-null  float64\n",
            " 3   End                                       150000 non-null  object \n",
            " 4   End ms                                    150000 non-null  float64\n",
            " 5   Dur. (ms)                                 150000 non-null  float64\n",
            " 6   IMSI                                      149431 non-null  float64\n",
            " 7   MSISDN/Number                             148935 non-null  float64\n",
            " 8   IMEI                                      149429 non-null  float64\n",
            " 9   Last Location Name                        148848 non-null  object \n",
            " 10  Avg RTT DL (ms)                           122172 non-null  float64\n",
            " 11  Avg RTT UL (ms)                           122189 non-null  float64\n",
            " 12  Avg Bearer TP DL (kbps)                   150000 non-null  float64\n",
            " 13  Avg Bearer TP UL (kbps)                   150000 non-null  float64\n",
            " 14  TCP DL Retrans. Vol (Bytes)               61855 non-null   float64\n",
            " 15  TCP UL Retrans. Vol (Bytes)               53352 non-null   float64\n",
            " 16  DL TP < 50 Kbps (%)                       149247 non-null  float64\n",
            " 17  50 Kbps < DL TP < 250 Kbps (%)            149247 non-null  float64\n",
            " 18  250 Kbps < DL TP < 1 Mbps (%)             149247 non-null  float64\n",
            " 19  DL TP > 1 Mbps (%)                        149247 non-null  float64\n",
            " 20  UL TP < 10 Kbps (%)                       149209 non-null  float64\n",
            " 21  10 Kbps < UL TP < 50 Kbps (%)             149209 non-null  float64\n",
            " 22  50 Kbps < UL TP < 300 Kbps (%)            149209 non-null  float64\n",
            " 23  UL TP > 300 Kbps (%)                      149209 non-null  float64\n",
            " 24  HTTP DL (Bytes)                           68527 non-null   float64\n",
            " 25  HTTP UL (Bytes)                           68191 non-null   float64\n",
            " 26  Activity Duration DL (ms)                 150000 non-null  float64\n",
            " 27  Activity Duration UL (ms)                 150000 non-null  float64\n",
            " 28  Dur. (ms).1                               150000 non-null  float64\n",
            " 29  Handset Manufacturer                      149429 non-null  object \n",
            " 30  Handset Type                              149429 non-null  object \n",
            " 31  Nb of sec with 125000B < Vol DL           52463 non-null   float64\n",
            " 32  Nb of sec with 1250B < Vol UL < 6250B     57107 non-null   float64\n",
            " 33  Nb of sec with 31250B < Vol DL < 125000B  56415 non-null   float64\n",
            " 34  Nb of sec with 37500B < Vol UL            19747 non-null   float64\n",
            " 35  Nb of sec with 6250B < Vol DL < 31250B    61684 non-null   float64\n",
            " 36  Nb of sec with 6250B < Vol UL < 37500B    38158 non-null   float64\n",
            " 37  Nb of sec with Vol DL < 6250B             149246 non-null  float64\n",
            " 38  Nb of sec with Vol UL < 1250B             149208 non-null  float64\n",
            " 39  Social Media DL (Bytes)                   150001 non-null  float64\n",
            " 40  Social Media UL (Bytes)                   150001 non-null  float64\n",
            " 41  Google DL (Bytes)                         150001 non-null  float64\n",
            " 42  Google UL (Bytes)                         150001 non-null  float64\n",
            " 43  Email DL (Bytes)                          150001 non-null  float64\n",
            " 44  Email UL (Bytes)                          150001 non-null  float64\n",
            " 45  Youtube DL (Bytes)                        150001 non-null  float64\n",
            " 46  Youtube UL (Bytes)                        150001 non-null  float64\n",
            " 47  Netflix DL (Bytes)                        150001 non-null  float64\n",
            " 48  Netflix UL (Bytes)                        150001 non-null  float64\n",
            " 49  Gaming DL (Bytes)                         150001 non-null  float64\n",
            " 50  Gaming UL (Bytes)                         150001 non-null  float64\n",
            " 51  Other DL (Bytes)                          150001 non-null  float64\n",
            " 52  Other UL (Bytes)                          150001 non-null  float64\n",
            " 53  Total UL (Bytes)                          150000 non-null  float64\n",
            " 54  Total DL (Bytes)                          150000 non-null  float64\n",
            "dtypes: float64(50), object(5)\n",
            "memory usage: 62.9+ MB\n"
          ],
          "name": "stdout"
        }
      ]
    },
    {
      "cell_type": "markdown",
      "metadata": {
        "id": "DCj9tolpOcst"
      },
      "source": [
        "\n",
        "Data Cleaning"
      ]
    },
    {
      "cell_type": "code",
      "metadata": {
        "colab": {
          "base_uri": "https://localhost:8080/"
        },
        "id": "P06Sl4DpOXu9",
        "outputId": "2df0a552-e99a-4929-be52-628f3a9a847f"
      },
      "source": [
        "\n",
        "data.columns = data.columns.str.replace(' ','_')\n",
        "data.columns.to_list()"
      ],
      "execution_count": 6,
      "outputs": [
        {
          "output_type": "execute_result",
          "data": {
            "text/plain": [
              "['Bearer_Id',\n",
              " 'Start',\n",
              " 'Start_ms',\n",
              " 'End',\n",
              " 'End_ms',\n",
              " 'Dur._(ms)',\n",
              " 'IMSI',\n",
              " 'MSISDN/Number',\n",
              " 'IMEI',\n",
              " 'Last_Location_Name',\n",
              " 'Avg_RTT_DL_(ms)',\n",
              " 'Avg_RTT_UL_(ms)',\n",
              " 'Avg_Bearer_TP_DL_(kbps)',\n",
              " 'Avg_Bearer_TP_UL_(kbps)',\n",
              " 'TCP_DL_Retrans._Vol_(Bytes)',\n",
              " 'TCP_UL_Retrans._Vol_(Bytes)',\n",
              " 'DL_TP_<_50_Kbps_(%)',\n",
              " '50_Kbps_<_DL_TP_<_250_Kbps_(%)',\n",
              " '250_Kbps_<_DL_TP_<_1_Mbps_(%)',\n",
              " 'DL_TP_>_1_Mbps_(%)',\n",
              " 'UL_TP_<_10_Kbps_(%)',\n",
              " '10_Kbps_<_UL_TP_<_50_Kbps_(%)',\n",
              " '50_Kbps_<_UL_TP_<_300_Kbps_(%)',\n",
              " 'UL_TP_>_300_Kbps_(%)',\n",
              " 'HTTP_DL_(Bytes)',\n",
              " 'HTTP_UL_(Bytes)',\n",
              " 'Activity_Duration_DL_(ms)',\n",
              " 'Activity_Duration_UL_(ms)',\n",
              " 'Dur._(ms).1',\n",
              " 'Handset_Manufacturer',\n",
              " 'Handset_Type',\n",
              " 'Nb_of_sec_with_125000B_<_Vol_DL',\n",
              " 'Nb_of_sec_with_1250B_<_Vol_UL_<_6250B',\n",
              " 'Nb_of_sec_with_31250B_<_Vol_DL_<_125000B',\n",
              " 'Nb_of_sec_with_37500B_<_Vol_UL',\n",
              " 'Nb_of_sec_with_6250B_<_Vol_DL_<_31250B',\n",
              " 'Nb_of_sec_with_6250B_<_Vol_UL_<_37500B',\n",
              " 'Nb_of_sec_with_Vol_DL_<_6250B',\n",
              " 'Nb_of_sec_with_Vol_UL_<_1250B',\n",
              " 'Social_Media_DL_(Bytes)',\n",
              " 'Social_Media_UL_(Bytes)',\n",
              " 'Google_DL_(Bytes)',\n",
              " 'Google_UL_(Bytes)',\n",
              " 'Email_DL_(Bytes)',\n",
              " 'Email_UL_(Bytes)',\n",
              " 'Youtube_DL_(Bytes)',\n",
              " 'Youtube_UL_(Bytes)',\n",
              " 'Netflix_DL_(Bytes)',\n",
              " 'Netflix_UL_(Bytes)',\n",
              " 'Gaming_DL_(Bytes)',\n",
              " 'Gaming_UL_(Bytes)',\n",
              " 'Other_DL_(Bytes)',\n",
              " 'Other_UL_(Bytes)',\n",
              " 'Total_UL_(Bytes)',\n",
              " 'Total_DL_(Bytes)']"
            ]
          },
          "metadata": {
            "tags": []
          },
          "execution_count": 6
        }
      ]
    },
    {
      "cell_type": "code",
      "metadata": {
        "id": "KRUNKDCDOgts"
      },
      "source": [
        "\n",
        "#Convert dates to datetime\n",
        "data['Start_ms']=pd.to_datetime(data['Start_ms'])\n",
        "data['End_ms']=pd.to_datetime(data['End_ms'])"
      ],
      "execution_count": 7,
      "outputs": []
    },
    {
      "cell_type": "code",
      "metadata": {
        "colab": {
          "base_uri": "https://localhost:8080/"
        },
        "id": "lVIbrhPSOlco",
        "outputId": "8f59fd67-3a15-4332-b98f-c87c4fb22b4f"
      },
      "source": [
        "\n",
        "#Check if there are rows where all column values are null\n",
        "check_null = data.columns.isnull().any()\n",
        "check_null"
      ],
      "execution_count": 8,
      "outputs": [
        {
          "output_type": "execute_result",
          "data": {
            "text/plain": [
              "False"
            ]
          },
          "metadata": {
            "tags": []
          },
          "execution_count": 8
        }
      ]
    },
    {
      "cell_type": "code",
      "metadata": {
        "colab": {
          "base_uri": "https://localhost:8080/"
        },
        "id": "oDUwerycOnUe",
        "outputId": "aadb5e54-4103-4c69-fac7-77a305026cb6"
      },
      "source": [
        "#% of null values\n",
        "def null_analysis(df):\n",
        "    total_values = np.product(df.shape)\n",
        "    total_null = (df.isnull().sum()).sum()\n",
        "    proportion_null = (total_null / total_values)*100\n",
        "    \n",
        "    print(\"The Telcommunication dataset has \",proportion_null,\"% null values.\")\n",
        "\n",
        "null_analysis(data)"
      ],
      "execution_count": 9,
      "outputs": [
        {
          "output_type": "stream",
          "text": [
            "The Telcommunication dataset has  12.501637867868759 % null values.\n"
          ],
          "name": "stdout"
        }
      ]
    },
    {
      "cell_type": "code",
      "metadata": {
        "colab": {
          "base_uri": "https://localhost:8080/"
        },
        "id": "e6tEh9PAOpEy",
        "outputId": "4572c595-7ee9-453d-cccf-e2ecf507fe91"
      },
      "source": [
        "def null_per_column(df):\n",
        "    dataset = df.isnull().sum()\n",
        "    dataset = pd.DataFrame(dataset,columns=['null'])\n",
        "    dataset['%null'] = (dataset['null']/df.shape[0])*100\n",
        "    dataframe = dataset[dataset['%null']>=30]\n",
        "    print(dataframe)    \n",
        "    #print('\\n List of columns with more than 30% null values:\\n',dataframe.index.to_list())\n",
        "\n",
        "null_per_column(data)"
      ],
      "execution_count": 10,
      "outputs": [
        {
          "output_type": "stream",
          "text": [
            "                                            null      %null\n",
            "TCP_DL_Retrans._Vol_(Bytes)                88146  58.763608\n",
            "TCP_UL_Retrans._Vol_(Bytes)                96649  64.432237\n",
            "HTTP_DL_(Bytes)                            81474  54.315638\n",
            "HTTP_UL_(Bytes)                            81810  54.539636\n",
            "Nb_of_sec_with_125000B_<_Vol_DL            97538  65.024900\n",
            "Nb_of_sec_with_1250B_<_Vol_UL_<_6250B      92894  61.928920\n",
            "Nb_of_sec_with_31250B_<_Vol_DL_<_125000B   93586  62.390251\n",
            "Nb_of_sec_with_37500B_<_Vol_UL            130254  86.835421\n",
            "Nb_of_sec_with_6250B_<_Vol_DL_<_31250B     88317  58.877607\n",
            "Nb_of_sec_with_6250B_<_Vol_UL_<_37500B    111843  74.561503\n"
          ],
          "name": "stdout"
        }
      ]
    },
    {
      "cell_type": "code",
      "metadata": {
        "colab": {
          "base_uri": "https://localhost:8080/"
        },
        "id": "pUX5a1OcOsBU",
        "outputId": "41f4ed78-65da-422b-8cec-493dbac9ffd3"
      },
      "source": [
        "#Dropping columns with more than 30% null values\n",
        "data=data.drop(['TCP_DL_Retrans._Vol_(Bytes)', 'TCP_UL_Retrans._Vol_(Bytes)', 'HTTP_DL_(Bytes)', 'HTTP_UL_(Bytes)', 'Nb_of_sec_with_125000B_<_Vol_DL', 'Nb_of_sec_with_1250B_<_Vol_UL_<_6250B', 'Nb_of_sec_with_31250B_<_Vol_DL_<_125000B', 'Nb_of_sec_with_37500B_<_Vol_UL', 'Nb_of_sec_with_6250B_<_Vol_DL_<_31250B', 'Nb_of_sec_with_6250B_<_Vol_UL_<_37500B'],axis=1)\n",
        "data.shape"
      ],
      "execution_count": 11,
      "outputs": [
        {
          "output_type": "execute_result",
          "data": {
            "text/plain": [
              "(150001, 45)"
            ]
          },
          "metadata": {
            "tags": []
          },
          "execution_count": 11
        }
      ]
    },
    {
      "cell_type": "code",
      "metadata": {
        "colab": {
          "base_uri": "https://localhost:8080/"
        },
        "id": "yJv4PpwzOwT6",
        "outputId": "490d2b4e-4ce8-4d83-cbb4-7bb4d6538243"
      },
      "source": [
        "data.isnull().sum()\n"
      ],
      "execution_count": 12,
      "outputs": [
        {
          "output_type": "execute_result",
          "data": {
            "text/plain": [
              "Bearer_Id                           991\n",
              "Start                                 1\n",
              "Start_ms                              1\n",
              "End                                   1\n",
              "End_ms                                1\n",
              "Dur._(ms)                             1\n",
              "IMSI                                570\n",
              "MSISDN/Number                      1066\n",
              "IMEI                                572\n",
              "Last_Location_Name                 1153\n",
              "Avg_RTT_DL_(ms)                   27829\n",
              "Avg_RTT_UL_(ms)                   27812\n",
              "Avg_Bearer_TP_DL_(kbps)               1\n",
              "Avg_Bearer_TP_UL_(kbps)               1\n",
              "DL_TP_<_50_Kbps_(%)                 754\n",
              "50_Kbps_<_DL_TP_<_250_Kbps_(%)      754\n",
              "250_Kbps_<_DL_TP_<_1_Mbps_(%)       754\n",
              "DL_TP_>_1_Mbps_(%)                  754\n",
              "UL_TP_<_10_Kbps_(%)                 792\n",
              "10_Kbps_<_UL_TP_<_50_Kbps_(%)       792\n",
              "50_Kbps_<_UL_TP_<_300_Kbps_(%)      792\n",
              "UL_TP_>_300_Kbps_(%)                792\n",
              "Activity_Duration_DL_(ms)             1\n",
              "Activity_Duration_UL_(ms)             1\n",
              "Dur._(ms).1                           1\n",
              "Handset_Manufacturer                572\n",
              "Handset_Type                        572\n",
              "Nb_of_sec_with_Vol_DL_<_6250B       755\n",
              "Nb_of_sec_with_Vol_UL_<_1250B       793\n",
              "Social_Media_DL_(Bytes)               0\n",
              "Social_Media_UL_(Bytes)               0\n",
              "Google_DL_(Bytes)                     0\n",
              "Google_UL_(Bytes)                     0\n",
              "Email_DL_(Bytes)                      0\n",
              "Email_UL_(Bytes)                      0\n",
              "Youtube_DL_(Bytes)                    0\n",
              "Youtube_UL_(Bytes)                    0\n",
              "Netflix_DL_(Bytes)                    0\n",
              "Netflix_UL_(Bytes)                    0\n",
              "Gaming_DL_(Bytes)                     0\n",
              "Gaming_UL_(Bytes)                     0\n",
              "Other_DL_(Bytes)                      0\n",
              "Other_UL_(Bytes)                      0\n",
              "Total_UL_(Bytes)                      1\n",
              "Total_DL_(Bytes)                      1\n",
              "dtype: int64"
            ]
          },
          "metadata": {
            "tags": []
          },
          "execution_count": 12
        }
      ]
    },
    {
      "cell_type": "code",
      "metadata": {
        "id": "Rq1vK9GQOw4W"
      },
      "source": [
        "data = data[data['Bearer_Id'].notna()]\n"
      ],
      "execution_count": 13,
      "outputs": []
    },
    {
      "cell_type": "code",
      "metadata": {
        "id": "JNehrJuNOw8k"
      },
      "source": [
        "#replace null values for object types with mode\n",
        "def null_objects(df,column):\n",
        "    df[column] = df[column].fillna(df[column].mode()[0])\n",
        "    return df[column]\n",
        "\n",
        "data['Last_Location_Name'] = null_objects(data,'Last_Location_Name')\n",
        "data['Handset_Manufacturer'] = null_objects(data,'Handset_Manufacturer')\n",
        "data['Handset_Type']= null_objects(data,'Handset_Type')"
      ],
      "execution_count": 14,
      "outputs": []
    },
    {
      "cell_type": "code",
      "metadata": {
        "colab": {
          "base_uri": "https://localhost:8080/"
        },
        "id": "dNuMd-wJOw_Y",
        "outputId": "17d351a9-a7c2-4cee-b594-316284779f45"
      },
      "source": [
        "#list of columns with null values,\n",
        "def null_values(df):\n",
        "    dataframe=df.isnull().sum()\n",
        "    dataframe=pd.DataFrame(dataframe,columns=['null'])\n",
        "    dataframe=dataframe[dataframe['null']>0]\n",
        "    print(dataframe.index.to_list())\n",
        "\n",
        "null_values(data)"
      ],
      "execution_count": 15,
      "outputs": [
        {
          "output_type": "stream",
          "text": [
            "['IMSI', 'MSISDN/Number', 'IMEI', 'Avg_RTT_DL_(ms)', 'Avg_RTT_UL_(ms)', 'DL_TP_<_50_Kbps_(%)', '50_Kbps_<_DL_TP_<_250_Kbps_(%)', '250_Kbps_<_DL_TP_<_1_Mbps_(%)', 'DL_TP_>_1_Mbps_(%)', 'UL_TP_<_10_Kbps_(%)', '10_Kbps_<_UL_TP_<_50_Kbps_(%)', '50_Kbps_<_UL_TP_<_300_Kbps_(%)', 'UL_TP_>_300_Kbps_(%)', 'Nb_of_sec_with_Vol_DL_<_6250B', 'Nb_of_sec_with_Vol_UL_<_1250B']\n"
          ],
          "name": "stdout"
        }
      ]
    },
    {
      "cell_type": "code",
      "metadata": {
        "colab": {
          "base_uri": "https://localhost:8080/"
        },
        "id": "XI8i450ZOxB-",
        "outputId": "f8ba3c9f-1b4c-4c71-967d-be397e41bfbd"
      },
      "source": [
        "\n",
        "#check skewness\n",
        "data_test=data[['IMSI', 'MSISDN/Number', 'IMEI', 'Avg_RTT_DL_(ms)', 'Avg_RTT_UL_(ms)', 'DL_TP_<_50_Kbps_(%)', '50_Kbps_<_DL_TP_<_250_Kbps_(%)', '250_Kbps_<_DL_TP_<_1_Mbps_(%)', 'DL_TP_>_1_Mbps_(%)', 'UL_TP_<_10_Kbps_(%)', '10_Kbps_<_UL_TP_<_50_Kbps_(%)', '50_Kbps_<_UL_TP_<_300_Kbps_(%)', 'UL_TP_>_300_Kbps_(%)', 'Nb_of_sec_with_Vol_DL_<_6250B', 'Nb_of_sec_with_Vol_UL_<_1250B']]\n",
        "data_test.skew()"
      ],
      "execution_count": 16,
      "outputs": [
        {
          "output_type": "execute_result",
          "data": {
            "text/plain": [
              "IMSI                               40.987487\n",
              "MSISDN/Number                     331.677128\n",
              "IMEI                                1.070670\n",
              "Avg_RTT_DL_(ms)                    66.756066\n",
              "Avg_RTT_UL_(ms)                    28.499279\n",
              "DL_TP_<_50_Kbps_(%)                -2.298563\n",
              "50_Kbps_<_DL_TP_<_250_Kbps_(%)      3.273358\n",
              "250_Kbps_<_DL_TP_<_1_Mbps_(%)       4.571437\n",
              "DL_TP_>_1_Mbps_(%)                  5.361127\n",
              "UL_TP_<_10_Kbps_(%)                -8.985914\n",
              "10_Kbps_<_UL_TP_<_50_Kbps_(%)      10.946940\n",
              "50_Kbps_<_UL_TP_<_300_Kbps_(%)     21.833582\n",
              "UL_TP_>_300_Kbps_(%)               36.151871\n",
              "Nb_of_sec_with_Vol_DL_<_6250B       9.024910\n",
              "Nb_of_sec_with_Vol_UL_<_1250B       7.482728\n",
              "dtype: float64"
            ]
          },
          "metadata": {
            "tags": []
          },
          "execution_count": 16
        }
      ]
    },
    {
      "cell_type": "code",
      "metadata": {
        "colab": {
          "base_uri": "https://localhost:8080/"
        },
        "id": "t1PwzVZHOxEY",
        "outputId": "9d2ccb70-528f-43f3-a42e-f66a875027d9"
      },
      "source": [
        "#since data is skewed we replace the null values with the median\n",
        "column_names = ['IMSI', 'MSISDN/Number', 'IMEI', 'Avg_RTT_DL_(ms)', 'Avg_RTT_UL_(ms)', 'DL_TP_<_50_Kbps_(%)', '50_Kbps_<_DL_TP_<_250_Kbps_(%)', '250_Kbps_<_DL_TP_<_1_Mbps_(%)', 'DL_TP_>_1_Mbps_(%)', 'UL_TP_<_10_Kbps_(%)', '10_Kbps_<_UL_TP_<_50_Kbps_(%)', '50_Kbps_<_UL_TP_<_300_Kbps_(%)', 'UL_TP_>_300_Kbps_(%)', 'Nb_of_sec_with_Vol_DL_<_6250B', 'Nb_of_sec_with_Vol_UL_<_1250B']\n",
        "\n",
        "for i in column_names:\n",
        "    data[i]=data[i].fillna(data[i].median())\n",
        "\n",
        "(data.isnull().sum()).sum()"
      ],
      "execution_count": 17,
      "outputs": [
        {
          "output_type": "execute_result",
          "data": {
            "text/plain": [
              "0"
            ]
          },
          "metadata": {
            "tags": []
          },
          "execution_count": 17
        }
      ]
    },
    {
      "cell_type": "code",
      "metadata": {
        "id": "3tCqwPDWSKpu"
      },
      "source": [
        "\n",
        "#Function to determine top n entries\n",
        "#Identifying the top 10 handsets used by the customers\n",
        "def top_n(df,column,n):\n",
        "    top=df[column].value_counts().head(n)\n",
        "    return top"
      ],
      "execution_count": 18,
      "outputs": []
    },
    {
      "cell_type": "code",
      "metadata": {
        "colab": {
          "base_uri": "https://localhost:8080/"
        },
        "id": "NJud-bYuOxH1",
        "outputId": "ab0739fa-fa89-4307-a8b3-5665c66c9f81"
      },
      "source": [
        "top_n(data,'Handset_Type',10)"
      ],
      "execution_count": 19,
      "outputs": [
        {
          "output_type": "execute_result",
          "data": {
            "text/plain": [
              "Huawei B528S-23A                19763\n",
              "Apple iPhone 6S (A1688)          9401\n",
              "Apple iPhone 6 (A1586)           9004\n",
              "undefined                        8960\n",
              "Apple iPhone 7 (A1778)           6301\n",
              "Apple iPhone Se (A1723)          5176\n",
              "Apple iPhone 8 (A1905)           4985\n",
              "Apple iPhone Xr (A2105)          4562\n",
              "Samsung Galaxy S8 (Sm-G950F)     4504\n",
              "Apple iPhone X (A1901)           3809\n",
              "Name: Handset_Type, dtype: int64"
            ]
          },
          "metadata": {
            "tags": []
          },
          "execution_count": 19
        }
      ]
    },
    {
      "cell_type": "code",
      "metadata": {
        "colab": {
          "base_uri": "https://localhost:8080/"
        },
        "id": "Fy_IlOYrSPdo",
        "outputId": "4b2a512a-eaad-48fc-ea57-62dea830f8fa"
      },
      "source": [
        "\n",
        "top_n(data,'Handset_Manufacturer',3)"
      ],
      "execution_count": 20,
      "outputs": [
        {
          "output_type": "execute_result",
          "data": {
            "text/plain": [
              "Apple      59451\n",
              "Samsung    40689\n",
              "Huawei     34353\n",
              "Name: Handset_Manufacturer, dtype: int64"
            ]
          },
          "metadata": {
            "tags": []
          },
          "execution_count": 20
        }
      ]
    },
    {
      "cell_type": "code",
      "metadata": {
        "colab": {
          "base_uri": "https://localhost:8080/"
        },
        "id": "9wwyOiw-SPhh",
        "outputId": "93d420ee-302f-44a5-b4c2-74548edf43cb"
      },
      "source": [
        "\n",
        "dataframe=data[['Handset_Manufacturer','Handset_Type']]\n",
        "manufacturers=top_n(data,'Handset_Manufacturer',3).index.to_list()\n",
        "dataframe = dataframe[dataframe['Handset_Manufacturer'].isin(manufacturers)]\n",
        "\n",
        "dataframe.groupby('Handset_Manufacturer').Handset_Type.value_counts().groupby(level=0,group_keys=False).head(5)"
      ],
      "execution_count": 21,
      "outputs": [
        {
          "output_type": "execute_result",
          "data": {
            "text/plain": [
              "Handset_Manufacturer  Handset_Type                  \n",
              "Apple                 Apple iPhone 6S (A1688)            9401\n",
              "                      Apple iPhone 6 (A1586)             9004\n",
              "                      Apple iPhone 7 (A1778)             6301\n",
              "                      Apple iPhone Se (A1723)            5176\n",
              "                      Apple iPhone 8 (A1905)             4985\n",
              "Huawei                Huawei B528S-23A                  19752\n",
              "                      Huawei E5180                       2079\n",
              "                      Huawei P20 Lite Huawei Nova 3E     2015\n",
              "                      Huawei P20                         1476\n",
              "                      Huawei Y6 2018                      996\n",
              "Samsung               Samsung Galaxy S8 (Sm-G950F)       4504\n",
              "                      Samsung Galaxy A5 Sm-A520F         3716\n",
              "                      Samsung Galaxy J5 (Sm-J530)        3689\n",
              "                      Samsung Galaxy J3 (Sm-J330)        3476\n",
              "                      Samsung Galaxy S7 (Sm-G930X)       3194\n",
              "Name: Handset_Type, dtype: int64"
            ]
          },
          "metadata": {
            "tags": []
          },
          "execution_count": 21
        }
      ]
    },
    {
      "cell_type": "code",
      "metadata": {
        "colab": {
          "base_uri": "https://localhost:8080/",
          "height": 203
        },
        "id": "T9VlJBobSPke",
        "outputId": "47c60257-e409-41ca-f95f-81f591cf2c71"
      },
      "source": [
        "\n",
        "def sum_columns(df,col1,col2):\n",
        "    return df[col1]+df[col2]\n",
        "\n",
        "user = pd.DataFrame(data,columns=['MSISDN/Number','Bearer_Id','Dur._(ms)'])\n",
        "user['Social_Media_Bytes']=sum_columns(data,'Social_Media_DL_(Bytes)','Social_Media_UL_(Bytes)')\n",
        "user['Google_Bytes']=sum_columns(data,'Google_DL_(Bytes)','Google_UL_(Bytes)')\n",
        "user['Email_Bytes']=sum_columns(data,'Email_DL_(Bytes)','Email_UL_(Bytes)')\n",
        "user['Youtube_Bytes']=sum_columns(data,'Youtube_DL_(Bytes)','Youtube_UL_(Bytes)')\n",
        "user['Netflix_Bytes']=sum_columns(data,'Netflix_DL_(Bytes)','Netflix_UL_(Bytes)')\n",
        "user['Gaming_Bytes']=sum_columns(data,'Gaming_DL_(Bytes)','Gaming_UL_(Bytes)')\n",
        "user['Other_Bytes']=sum_columns(data,'Other_DL_(Bytes)','Other_UL_(Bytes)')\n",
        "user['Total_Bytes']=sum_columns(data,'Total_DL_(Bytes)','Total_UL_(Bytes)')\n",
        "\n",
        "user.head()"
      ],
      "execution_count": 22,
      "outputs": [
        {
          "output_type": "execute_result",
          "data": {
            "text/html": [
              "<div>\n",
              "<style scoped>\n",
              "    .dataframe tbody tr th:only-of-type {\n",
              "        vertical-align: middle;\n",
              "    }\n",
              "\n",
              "    .dataframe tbody tr th {\n",
              "        vertical-align: top;\n",
              "    }\n",
              "\n",
              "    .dataframe thead th {\n",
              "        text-align: right;\n",
              "    }\n",
              "</style>\n",
              "<table border=\"1\" class=\"dataframe\">\n",
              "  <thead>\n",
              "    <tr style=\"text-align: right;\">\n",
              "      <th></th>\n",
              "      <th>MSISDN/Number</th>\n",
              "      <th>Bearer_Id</th>\n",
              "      <th>Dur._(ms)</th>\n",
              "      <th>Social_Media_Bytes</th>\n",
              "      <th>Google_Bytes</th>\n",
              "      <th>Email_Bytes</th>\n",
              "      <th>Youtube_Bytes</th>\n",
              "      <th>Netflix_Bytes</th>\n",
              "      <th>Gaming_Bytes</th>\n",
              "      <th>Other_Bytes</th>\n",
              "      <th>Total_Bytes</th>\n",
              "    </tr>\n",
              "  </thead>\n",
              "  <tbody>\n",
              "    <tr>\n",
              "      <th>0</th>\n",
              "      <td>3.366496e+10</td>\n",
              "      <td>1.311448e+19</td>\n",
              "      <td>1823652.0</td>\n",
              "      <td>1570185.0</td>\n",
              "      <td>2905912.0</td>\n",
              "      <td>3701304.0</td>\n",
              "      <td>18355943.0</td>\n",
              "      <td>17855187.0</td>\n",
              "      <td>292426453.0</td>\n",
              "      <td>180558843.0</td>\n",
              "      <td>345629377.0</td>\n",
              "    </tr>\n",
              "    <tr>\n",
              "      <th>1</th>\n",
              "      <td>3.368185e+10</td>\n",
              "      <td>1.311448e+19</td>\n",
              "      <td>1365104.0</td>\n",
              "      <td>1933278.0</td>\n",
              "      <td>4414096.0</td>\n",
              "      <td>937385.0</td>\n",
              "      <td>39359124.0</td>\n",
              "      <td>35565545.0</td>\n",
              "      <td>609920783.0</td>\n",
              "      <td>541959383.0</td>\n",
              "      <td>707185356.0</td>\n",
              "    </tr>\n",
              "    <tr>\n",
              "      <th>2</th>\n",
              "      <td>3.376063e+10</td>\n",
              "      <td>1.311448e+19</td>\n",
              "      <td>1361762.0</td>\n",
              "      <td>1726277.0</td>\n",
              "      <td>10229119.0</td>\n",
              "      <td>3363124.0</td>\n",
              "      <td>34425237.0</td>\n",
              "      <td>23751202.0</td>\n",
              "      <td>229980251.0</td>\n",
              "      <td>414908351.0</td>\n",
              "      <td>307690973.0</td>\n",
              "    </tr>\n",
              "    <tr>\n",
              "      <th>3</th>\n",
              "      <td>3.375034e+10</td>\n",
              "      <td>1.311448e+19</td>\n",
              "      <td>1321509.0</td>\n",
              "      <td>657493.0</td>\n",
              "      <td>11811761.0</td>\n",
              "      <td>2070983.0</td>\n",
              "      <td>36534765.0</td>\n",
              "      <td>15092588.0</td>\n",
              "      <td>810387875.0</td>\n",
              "      <td>761837216.0</td>\n",
              "      <td>889352748.0</td>\n",
              "    </tr>\n",
              "    <tr>\n",
              "      <th>4</th>\n",
              "      <td>3.369980e+10</td>\n",
              "      <td>1.311448e+19</td>\n",
              "      <td>1089009.0</td>\n",
              "      <td>912788.0</td>\n",
              "      <td>7748843.0</td>\n",
              "      <td>2110349.0</td>\n",
              "      <td>34222253.0</td>\n",
              "      <td>17539799.0</td>\n",
              "      <td>531237049.0</td>\n",
              "      <td>564619822.0</td>\n",
              "      <td>607681403.0</td>\n",
              "    </tr>\n",
              "  </tbody>\n",
              "</table>\n",
              "</div>"
            ],
            "text/plain": [
              "   MSISDN/Number     Bearer_Id  Dur._(ms)  Social_Media_Bytes  Google_Bytes  \\\n",
              "0   3.366496e+10  1.311448e+19  1823652.0           1570185.0     2905912.0   \n",
              "1   3.368185e+10  1.311448e+19  1365104.0           1933278.0     4414096.0   \n",
              "2   3.376063e+10  1.311448e+19  1361762.0           1726277.0    10229119.0   \n",
              "3   3.375034e+10  1.311448e+19  1321509.0            657493.0    11811761.0   \n",
              "4   3.369980e+10  1.311448e+19  1089009.0            912788.0     7748843.0   \n",
              "\n",
              "   Email_Bytes  Youtube_Bytes  Netflix_Bytes  Gaming_Bytes  Other_Bytes  \\\n",
              "0    3701304.0     18355943.0     17855187.0   292426453.0  180558843.0   \n",
              "1     937385.0     39359124.0     35565545.0   609920783.0  541959383.0   \n",
              "2    3363124.0     34425237.0     23751202.0   229980251.0  414908351.0   \n",
              "3    2070983.0     36534765.0     15092588.0   810387875.0  761837216.0   \n",
              "4    2110349.0     34222253.0     17539799.0   531237049.0  564619822.0   \n",
              "\n",
              "   Total_Bytes  \n",
              "0  345629377.0  \n",
              "1  707185356.0  \n",
              "2  307690973.0  \n",
              "3  889352748.0  \n",
              "4  607681403.0  "
            ]
          },
          "metadata": {
            "tags": []
          },
          "execution_count": 22
        }
      ]
    },
    {
      "cell_type": "code",
      "metadata": {
        "id": "ErdIVGUvSPnP"
      },
      "source": [
        "#convert ms to s\n",
        "user['Dur._(ms)'] =user['Dur._(ms)']/1000\n",
        "\n",
        "#convert bytes to megabytes\n",
        "columns=['Social_Media_Bytes','Google_Bytes','Email_Bytes','Youtube_Bytes', 'Netflix_Bytes', 'Gaming_Bytes', 'Other_Bytes','Total_Bytes']\n",
        "for i in columns:\n",
        "    megabyte = 1*10e+5\n",
        "    user[i]= user[i]/megabyte\n",
        "\n",
        "user.rename(columns={'Dur._(ms)':'Session_Duration_s','Social_Media_Bytes':'Social_Media_MB','Google_Bytes':'Google_MB',\n",
        "                     'Email_Bytes':'Email_MB','Youtube_Bytes':'Youtube_MB', 'Netflix_Bytes':'Netflix_MB', 'Gaming_Bytes':'Gaming_MB', 'Other_Bytes':'Other_MB','Total_Bytes':'Total_MB'},inplace=True)"
      ],
      "execution_count": 23,
      "outputs": []
    },
    {
      "cell_type": "code",
      "metadata": {
        "colab": {
          "base_uri": "https://localhost:8080/",
          "height": 203
        },
        "id": "CyZG4BW5SPqM",
        "outputId": "87af1298-c7ba-46a8-b678-1f6ea83f4c40"
      },
      "source": [
        "user.head()"
      ],
      "execution_count": 24,
      "outputs": [
        {
          "output_type": "execute_result",
          "data": {
            "text/html": [
              "<div>\n",
              "<style scoped>\n",
              "    .dataframe tbody tr th:only-of-type {\n",
              "        vertical-align: middle;\n",
              "    }\n",
              "\n",
              "    .dataframe tbody tr th {\n",
              "        vertical-align: top;\n",
              "    }\n",
              "\n",
              "    .dataframe thead th {\n",
              "        text-align: right;\n",
              "    }\n",
              "</style>\n",
              "<table border=\"1\" class=\"dataframe\">\n",
              "  <thead>\n",
              "    <tr style=\"text-align: right;\">\n",
              "      <th></th>\n",
              "      <th>MSISDN/Number</th>\n",
              "      <th>Bearer_Id</th>\n",
              "      <th>Session_Duration_s</th>\n",
              "      <th>Social_Media_MB</th>\n",
              "      <th>Google_MB</th>\n",
              "      <th>Email_MB</th>\n",
              "      <th>Youtube_MB</th>\n",
              "      <th>Netflix_MB</th>\n",
              "      <th>Gaming_MB</th>\n",
              "      <th>Other_MB</th>\n",
              "      <th>Total_MB</th>\n",
              "    </tr>\n",
              "  </thead>\n",
              "  <tbody>\n",
              "    <tr>\n",
              "      <th>0</th>\n",
              "      <td>3.366496e+10</td>\n",
              "      <td>1.311448e+19</td>\n",
              "      <td>1823.652</td>\n",
              "      <td>1.570185</td>\n",
              "      <td>2.905912</td>\n",
              "      <td>3.701304</td>\n",
              "      <td>18.355943</td>\n",
              "      <td>17.855187</td>\n",
              "      <td>292.426453</td>\n",
              "      <td>180.558843</td>\n",
              "      <td>345.629377</td>\n",
              "    </tr>\n",
              "    <tr>\n",
              "      <th>1</th>\n",
              "      <td>3.368185e+10</td>\n",
              "      <td>1.311448e+19</td>\n",
              "      <td>1365.104</td>\n",
              "      <td>1.933278</td>\n",
              "      <td>4.414096</td>\n",
              "      <td>0.937385</td>\n",
              "      <td>39.359124</td>\n",
              "      <td>35.565545</td>\n",
              "      <td>609.920783</td>\n",
              "      <td>541.959383</td>\n",
              "      <td>707.185356</td>\n",
              "    </tr>\n",
              "    <tr>\n",
              "      <th>2</th>\n",
              "      <td>3.376063e+10</td>\n",
              "      <td>1.311448e+19</td>\n",
              "      <td>1361.762</td>\n",
              "      <td>1.726277</td>\n",
              "      <td>10.229119</td>\n",
              "      <td>3.363124</td>\n",
              "      <td>34.425237</td>\n",
              "      <td>23.751202</td>\n",
              "      <td>229.980251</td>\n",
              "      <td>414.908351</td>\n",
              "      <td>307.690973</td>\n",
              "    </tr>\n",
              "    <tr>\n",
              "      <th>3</th>\n",
              "      <td>3.375034e+10</td>\n",
              "      <td>1.311448e+19</td>\n",
              "      <td>1321.509</td>\n",
              "      <td>0.657493</td>\n",
              "      <td>11.811761</td>\n",
              "      <td>2.070983</td>\n",
              "      <td>36.534765</td>\n",
              "      <td>15.092588</td>\n",
              "      <td>810.387875</td>\n",
              "      <td>761.837216</td>\n",
              "      <td>889.352748</td>\n",
              "    </tr>\n",
              "    <tr>\n",
              "      <th>4</th>\n",
              "      <td>3.369980e+10</td>\n",
              "      <td>1.311448e+19</td>\n",
              "      <td>1089.009</td>\n",
              "      <td>0.912788</td>\n",
              "      <td>7.748843</td>\n",
              "      <td>2.110349</td>\n",
              "      <td>34.222253</td>\n",
              "      <td>17.539799</td>\n",
              "      <td>531.237049</td>\n",
              "      <td>564.619822</td>\n",
              "      <td>607.681403</td>\n",
              "    </tr>\n",
              "  </tbody>\n",
              "</table>\n",
              "</div>"
            ],
            "text/plain": [
              "   MSISDN/Number     Bearer_Id  Session_Duration_s  Social_Media_MB  \\\n",
              "0   3.366496e+10  1.311448e+19            1823.652         1.570185   \n",
              "1   3.368185e+10  1.311448e+19            1365.104         1.933278   \n",
              "2   3.376063e+10  1.311448e+19            1361.762         1.726277   \n",
              "3   3.375034e+10  1.311448e+19            1321.509         0.657493   \n",
              "4   3.369980e+10  1.311448e+19            1089.009         0.912788   \n",
              "\n",
              "   Google_MB  Email_MB  Youtube_MB  Netflix_MB   Gaming_MB    Other_MB  \\\n",
              "0   2.905912  3.701304   18.355943   17.855187  292.426453  180.558843   \n",
              "1   4.414096  0.937385   39.359124   35.565545  609.920783  541.959383   \n",
              "2  10.229119  3.363124   34.425237   23.751202  229.980251  414.908351   \n",
              "3  11.811761  2.070983   36.534765   15.092588  810.387875  761.837216   \n",
              "4   7.748843  2.110349   34.222253   17.539799  531.237049  564.619822   \n",
              "\n",
              "     Total_MB  \n",
              "0  345.629377  \n",
              "1  707.185356  \n",
              "2  307.690973  \n",
              "3  889.352748  \n",
              "4  607.681403  "
            ]
          },
          "metadata": {
            "tags": []
          },
          "execution_count": 24
        }
      ]
    },
    {
      "cell_type": "code",
      "metadata": {
        "colab": {
          "base_uri": "https://localhost:8080/",
          "height": 80
        },
        "id": "_gfTFtpSSPt7",
        "outputId": "a3556f21-cc5e-405e-b61c-ef9656eac281"
      },
      "source": [
        "user=user.groupby('MSISDN/Number').agg({'Bearer_Id':'count', 'Session_Duration_s':'sum', 'Total_MB':'sum','Social_Media_MB':'sum', 'Google_MB':'sum', 'Email_MB':'sum',\n",
        "       'Youtube_MB':'sum', 'Netflix_MB':'sum', 'Gaming_MB':'sum', 'Other_MB':'sum'}).reset_index()\n",
        "\n",
        "user.rename(columns={'Bearer_Id':'No_of_xDRsessions'},inplace=True)\n",
        "user.sample()"
      ],
      "execution_count": 25,
      "outputs": [
        {
          "output_type": "execute_result",
          "data": {
            "text/html": [
              "<div>\n",
              "<style scoped>\n",
              "    .dataframe tbody tr th:only-of-type {\n",
              "        vertical-align: middle;\n",
              "    }\n",
              "\n",
              "    .dataframe tbody tr th {\n",
              "        vertical-align: top;\n",
              "    }\n",
              "\n",
              "    .dataframe thead th {\n",
              "        text-align: right;\n",
              "    }\n",
              "</style>\n",
              "<table border=\"1\" class=\"dataframe\">\n",
              "  <thead>\n",
              "    <tr style=\"text-align: right;\">\n",
              "      <th></th>\n",
              "      <th>MSISDN/Number</th>\n",
              "      <th>No_of_xDRsessions</th>\n",
              "      <th>Session_Duration_s</th>\n",
              "      <th>Total_MB</th>\n",
              "      <th>Social_Media_MB</th>\n",
              "      <th>Google_MB</th>\n",
              "      <th>Email_MB</th>\n",
              "      <th>Youtube_MB</th>\n",
              "      <th>Netflix_MB</th>\n",
              "      <th>Gaming_MB</th>\n",
              "      <th>Other_MB</th>\n",
              "    </tr>\n",
              "  </thead>\n",
              "  <tbody>\n",
              "    <tr>\n",
              "      <th>84854</th>\n",
              "      <td>3.369840e+10</td>\n",
              "      <td>2</td>\n",
              "      <td>172.799</td>\n",
              "      <td>561.021133</td>\n",
              "      <td>4.532997</td>\n",
              "      <td>9.694367</td>\n",
              "      <td>5.612729</td>\n",
              "      <td>38.895629</td>\n",
              "      <td>57.612982</td>\n",
              "      <td>427.172727</td>\n",
              "      <td>923.448864</td>\n",
              "    </tr>\n",
              "  </tbody>\n",
              "</table>\n",
              "</div>"
            ],
            "text/plain": [
              "       MSISDN/Number  No_of_xDRsessions  Session_Duration_s    Total_MB  \\\n",
              "84854   3.369840e+10                  2             172.799  561.021133   \n",
              "\n",
              "       Social_Media_MB  Google_MB  Email_MB  Youtube_MB  Netflix_MB  \\\n",
              "84854         4.532997   9.694367  5.612729   38.895629   57.612982   \n",
              "\n",
              "        Gaming_MB    Other_MB  \n",
              "84854  427.172727  923.448864  "
            ]
          },
          "metadata": {
            "tags": []
          },
          "execution_count": 25
        }
      ]
    },
    {
      "cell_type": "markdown",
      "metadata": {
        "id": "oFUM2CybS4mY"
      },
      "source": [
        "Exploratory Data Analysis\n",
        "\n",
        "\n",
        "Univariate Analysis"
      ]
    },
    {
      "cell_type": "code",
      "metadata": {
        "id": "mkJ_jIfeS5o4"
      },
      "source": [
        "def plot_univariate(df,col1,col2,col3,col4):\n",
        "    plt.figure(figsize=(12,8))\n",
        "    \n",
        "    plt.subplot(2,2,1)\n",
        "    plt.hist(df[col1],bins=20,color='#AEC6CF',edgecolor='blue',linewidth=0.5)\n",
        "    plt.title(f'Histogram of {col1}', size=14)\n",
        "    \n",
        "    plt.subplot(2,2,2)\n",
        "    plt.boxplot(df[col1])\n",
        "    plt.title(f'Boxplot of {col1}', size=14)\n",
        "    \n",
        "    plt.subplot(2,2,3)\n",
        "    plt.hist(df[col2],bins=20,color='#b39eb5',edgecolor='purple',linewidth=0.5)\n",
        "    plt.title(f'Histogram of {col2}', size=14)\n",
        "    \n",
        "    plt.subplot(2,2,4)\n",
        "    plt.boxplot(df[col2])\n",
        "    plt.title(f'Boxplot of {col2}', size=14)\n",
        "    \n",
        "    plt.show()"
      ],
      "execution_count": 62,
      "outputs": []
    },
    {
      "cell_type": "code",
      "metadata": {
        "colab": {
          "base_uri": "https://localhost:8080/",
          "height": 315
        },
        "id": "kL5QYO5DS-ev",
        "outputId": "48c054d4-c146-4ba1-def4-ec045f0a4e55"
      },
      "source": [
        "user.describe()"
      ],
      "execution_count": 63,
      "outputs": [
        {
          "output_type": "execute_result",
          "data": {
            "text/html": [
              "<div>\n",
              "<style scoped>\n",
              "    .dataframe tbody tr th:only-of-type {\n",
              "        vertical-align: middle;\n",
              "    }\n",
              "\n",
              "    .dataframe tbody tr th {\n",
              "        vertical-align: top;\n",
              "    }\n",
              "\n",
              "    .dataframe thead th {\n",
              "        text-align: right;\n",
              "    }\n",
              "</style>\n",
              "<table border=\"1\" class=\"dataframe\">\n",
              "  <thead>\n",
              "    <tr style=\"text-align: right;\">\n",
              "      <th></th>\n",
              "      <th>MSISDN/Number</th>\n",
              "      <th>No_of_xDRsessions</th>\n",
              "      <th>Session_Duration_s</th>\n",
              "      <th>Total_MB</th>\n",
              "      <th>Social_Media_MB</th>\n",
              "      <th>Google_MB</th>\n",
              "      <th>Email_MB</th>\n",
              "      <th>Youtube_MB</th>\n",
              "      <th>Netflix_MB</th>\n",
              "      <th>Gaming_MB</th>\n",
              "      <th>Other_MB</th>\n",
              "      <th>DecileRank</th>\n",
              "    </tr>\n",
              "  </thead>\n",
              "  <tbody>\n",
              "    <tr>\n",
              "      <th>count</th>\n",
              "      <td>106471.000000</td>\n",
              "      <td>106471.000000</td>\n",
              "      <td>106471.000000</td>\n",
              "      <td>106471.000000</td>\n",
              "      <td>106471.000000</td>\n",
              "      <td>106471.000000</td>\n",
              "      <td>106471.000000</td>\n",
              "      <td>106471.000000</td>\n",
              "      <td>106471.000000</td>\n",
              "      <td>106471.000000</td>\n",
              "      <td>106471.000000</td>\n",
              "      <td>106471.000000</td>\n",
              "    </tr>\n",
              "    <tr>\n",
              "      <th>mean</th>\n",
              "      <td>53235.000000</td>\n",
              "      <td>0.284152</td>\n",
              "      <td>34934.064290</td>\n",
              "      <td>50703.523626</td>\n",
              "      <td>50165.891445</td>\n",
              "      <td>50543.498023</td>\n",
              "      <td>50190.236787</td>\n",
              "      <td>50638.249815</td>\n",
              "      <td>50639.779968</td>\n",
              "      <td>50703.926778</td>\n",
              "      <td>50703.228475</td>\n",
              "      <td>1.987593</td>\n",
              "    </tr>\n",
              "    <tr>\n",
              "      <th>std</th>\n",
              "      <td>30735.674593</td>\n",
              "      <td>0.535166</td>\n",
              "      <td>19547.559297</td>\n",
              "      <td>28463.827406</td>\n",
              "      <td>28152.024591</td>\n",
              "      <td>28373.249396</td>\n",
              "      <td>28164.068425</td>\n",
              "      <td>28425.599190</td>\n",
              "      <td>28427.606512</td>\n",
              "      <td>28463.914422</td>\n",
              "      <td>28463.787254</td>\n",
              "      <td>1.417327</td>\n",
              "    </tr>\n",
              "    <tr>\n",
              "      <th>min</th>\n",
              "      <td>0.000000</td>\n",
              "      <td>0.000000</td>\n",
              "      <td>0.000000</td>\n",
              "      <td>0.000000</td>\n",
              "      <td>0.000000</td>\n",
              "      <td>0.000000</td>\n",
              "      <td>0.000000</td>\n",
              "      <td>0.000000</td>\n",
              "      <td>0.000000</td>\n",
              "      <td>0.000000</td>\n",
              "      <td>0.000000</td>\n",
              "      <td>0.000000</td>\n",
              "    </tr>\n",
              "    <tr>\n",
              "      <th>25%</th>\n",
              "      <td>26617.500000</td>\n",
              "      <td>0.000000</td>\n",
              "      <td>21629.500000</td>\n",
              "      <td>26616.500000</td>\n",
              "      <td>26341.500000</td>\n",
              "      <td>26532.500000</td>\n",
              "      <td>26365.500000</td>\n",
              "      <td>26587.500000</td>\n",
              "      <td>26585.500000</td>\n",
              "      <td>26616.500000</td>\n",
              "      <td>26615.500000</td>\n",
              "      <td>1.000000</td>\n",
              "    </tr>\n",
              "    <tr>\n",
              "      <th>50%</th>\n",
              "      <td>53235.000000</td>\n",
              "      <td>0.000000</td>\n",
              "      <td>33326.000000</td>\n",
              "      <td>53232.000000</td>\n",
              "      <td>52685.000000</td>\n",
              "      <td>53061.000000</td>\n",
              "      <td>52684.000000</td>\n",
              "      <td>53162.000000</td>\n",
              "      <td>53166.000000</td>\n",
              "      <td>53232.000000</td>\n",
              "      <td>53232.000000</td>\n",
              "      <td>2.000000</td>\n",
              "    </tr>\n",
              "    <tr>\n",
              "      <th>75%</th>\n",
              "      <td>79852.500000</td>\n",
              "      <td>0.000000</td>\n",
              "      <td>51428.500000</td>\n",
              "      <td>74524.500000</td>\n",
              "      <td>73713.500000</td>\n",
              "      <td>74276.500000</td>\n",
              "      <td>73719.500000</td>\n",
              "      <td>74420.500000</td>\n",
              "      <td>74426.500000</td>\n",
              "      <td>74525.500000</td>\n",
              "      <td>74524.500000</td>\n",
              "      <td>3.000000</td>\n",
              "    </tr>\n",
              "    <tr>\n",
              "      <th>max</th>\n",
              "      <td>106470.000000</td>\n",
              "      <td>2.000000</td>\n",
              "      <td>73215.000000</td>\n",
              "      <td>101142.000000</td>\n",
              "      <td>100131.000000</td>\n",
              "      <td>100853.000000</td>\n",
              "      <td>100195.000000</td>\n",
              "      <td>101024.000000</td>\n",
              "      <td>101029.000000</td>\n",
              "      <td>101142.000000</td>\n",
              "      <td>101141.000000</td>\n",
              "      <td>4.000000</td>\n",
              "    </tr>\n",
              "  </tbody>\n",
              "</table>\n",
              "</div>"
            ],
            "text/plain": [
              "       MSISDN/Number  No_of_xDRsessions  Session_Duration_s       Total_MB  \\\n",
              "count  106471.000000      106471.000000       106471.000000  106471.000000   \n",
              "mean    53235.000000           0.284152        34934.064290   50703.523626   \n",
              "std     30735.674593           0.535166        19547.559297   28463.827406   \n",
              "min         0.000000           0.000000            0.000000       0.000000   \n",
              "25%     26617.500000           0.000000        21629.500000   26616.500000   \n",
              "50%     53235.000000           0.000000        33326.000000   53232.000000   \n",
              "75%     79852.500000           0.000000        51428.500000   74524.500000   \n",
              "max    106470.000000           2.000000        73215.000000  101142.000000   \n",
              "\n",
              "       Social_Media_MB      Google_MB       Email_MB     Youtube_MB  \\\n",
              "count    106471.000000  106471.000000  106471.000000  106471.000000   \n",
              "mean      50165.891445   50543.498023   50190.236787   50638.249815   \n",
              "std       28152.024591   28373.249396   28164.068425   28425.599190   \n",
              "min           0.000000       0.000000       0.000000       0.000000   \n",
              "25%       26341.500000   26532.500000   26365.500000   26587.500000   \n",
              "50%       52685.000000   53061.000000   52684.000000   53162.000000   \n",
              "75%       73713.500000   74276.500000   73719.500000   74420.500000   \n",
              "max      100131.000000  100853.000000  100195.000000  101024.000000   \n",
              "\n",
              "          Netflix_MB      Gaming_MB       Other_MB     DecileRank  \n",
              "count  106471.000000  106471.000000  106471.000000  106471.000000  \n",
              "mean    50639.779968   50703.926778   50703.228475       1.987593  \n",
              "std     28427.606512   28463.914422   28463.787254       1.417327  \n",
              "min         0.000000       0.000000       0.000000       0.000000  \n",
              "25%     26585.500000   26616.500000   26615.500000       1.000000  \n",
              "50%     53166.000000   53232.000000   53232.000000       2.000000  \n",
              "75%     74426.500000   74525.500000   74524.500000       3.000000  \n",
              "max    101029.000000  101142.000000  101141.000000       4.000000  "
            ]
          },
          "metadata": {
            "tags": []
          },
          "execution_count": 63
        }
      ]
    },
    {
      "cell_type": "code",
      "metadata": {
        "colab": {
          "base_uri": "https://localhost:8080/",
          "height": 500
        },
        "id": "MR1tcA7sTB_o",
        "outputId": "2a1b4c53-a9e7-442d-c33d-fd8e50061492"
      },
      "source": [
        "import numpy as np\n",
        "import matplotlib.pyplot as plt\n",
        "%matplotlib inline\n",
        "import seaborn as sns\n",
        "\n",
        "import warnings\n",
        "warnings.filterwarnings('ignore')\n",
        "#plot before removing outliers\n",
        "plot_univariate(user,'No_of_xDRsessions','Total_MB', 'Social_Media_MB', 'Google_MB')"
      ],
      "execution_count": 64,
      "outputs": [
        {
          "output_type": "display_data",
          "data": {
            "image/png": "[encoded data removed]",
            "text/plain": [
              "<Figure size 864x576 with 4 Axes>"
            ]
          },
          "metadata": {
            "tags": [],
            "needs_background": "light"
          }
        }
      ]
    },
    {
      "cell_type": "code",
      "metadata": {
        "id": "-poFUHl4TCCb"
      },
      "source": [
        "\n",
        "columns = user.columns.to_list()\n",
        "columns.remove('MSISDN/Number')\n",
        "for i in columns:\n",
        "    user[i] = np.where(user[i] > user[i].quantile(0.95), user[i].median(),user[i])"
      ],
      "execution_count": 29,
      "outputs": []
    },
    {
      "cell_type": "code",
      "metadata": {
        "colab": {
          "base_uri": "https://localhost:8080/",
          "height": 295
        },
        "id": "hUoxiKvOTObb",
        "outputId": "868e15f3-ac0c-40a4-9503-d6ffb2821060"
      },
      "source": [
        "\n",
        "user.describe()"
      ],
      "execution_count": 30,
      "outputs": [
        {
          "output_type": "execute_result",
          "data": {
            "text/html": [
              "<div>\n",
              "<style scoped>\n",
              "    .dataframe tbody tr th:only-of-type {\n",
              "        vertical-align: middle;\n",
              "    }\n",
              "\n",
              "    .dataframe tbody tr th {\n",
              "        vertical-align: top;\n",
              "    }\n",
              "\n",
              "    .dataframe thead th {\n",
              "        text-align: right;\n",
              "    }\n",
              "</style>\n",
              "<table border=\"1\" class=\"dataframe\">\n",
              "  <thead>\n",
              "    <tr style=\"text-align: right;\">\n",
              "      <th></th>\n",
              "      <th>MSISDN/Number</th>\n",
              "      <th>No_of_xDRsessions</th>\n",
              "      <th>Session_Duration_s</th>\n",
              "      <th>Total_MB</th>\n",
              "      <th>Social_Media_MB</th>\n",
              "      <th>Google_MB</th>\n",
              "      <th>Email_MB</th>\n",
              "      <th>Youtube_MB</th>\n",
              "      <th>Netflix_MB</th>\n",
              "      <th>Gaming_MB</th>\n",
              "      <th>Other_MB</th>\n",
              "    </tr>\n",
              "  </thead>\n",
              "  <tbody>\n",
              "    <tr>\n",
              "      <th>count</th>\n",
              "      <td>1.064710e+05</td>\n",
              "      <td>106471.000000</td>\n",
              "      <td>106471.000000</td>\n",
              "      <td>106471.000000</td>\n",
              "      <td>106471.000000</td>\n",
              "      <td>106471.000000</td>\n",
              "      <td>106471.000000</td>\n",
              "      <td>106471.000000</td>\n",
              "      <td>106471.000000</td>\n",
              "      <td>106471.000000</td>\n",
              "      <td>106471.000000</td>\n",
              "    </tr>\n",
              "    <tr>\n",
              "      <th>mean</th>\n",
              "      <td>4.515611e+10</td>\n",
              "      <td>1.284152</td>\n",
              "      <td>120.038393</td>\n",
              "      <td>614.727635</td>\n",
              "      <td>2.259937</td>\n",
              "      <td>9.687030</td>\n",
              "      <td>2.799435</td>\n",
              "      <td>28.084860</td>\n",
              "      <td>28.064363</td>\n",
              "      <td>531.768968</td>\n",
              "      <td>530.294771</td>\n",
              "    </tr>\n",
              "    <tr>\n",
              "      <th>std</th>\n",
              "      <td>2.894643e+12</td>\n",
              "      <td>0.535166</td>\n",
              "      <td>76.961036</td>\n",
              "      <td>332.115321</td>\n",
              "      <td>1.327487</td>\n",
              "      <td>5.009408</td>\n",
              "      <td>1.481265</td>\n",
              "      <td>13.877322</td>\n",
              "      <td>13.926842</td>\n",
              "      <td>311.381853</td>\n",
              "      <td>311.821811</td>\n",
              "    </tr>\n",
              "    <tr>\n",
              "      <th>min</th>\n",
              "      <td>3.360100e+10</td>\n",
              "      <td>1.000000</td>\n",
              "      <td>7.142000</td>\n",
              "      <td>33.249009</td>\n",
              "      <td>0.001563</td>\n",
              "      <td>0.040330</td>\n",
              "      <td>0.018176</td>\n",
              "      <td>0.078903</td>\n",
              "      <td>0.184569</td>\n",
              "      <td>0.306358</td>\n",
              "      <td>0.149045</td>\n",
              "    </tr>\n",
              "    <tr>\n",
              "      <th>25%</th>\n",
              "      <td>3.365088e+10</td>\n",
              "      <td>1.000000</td>\n",
              "      <td>72.404000</td>\n",
              "      <td>358.765225</td>\n",
              "      <td>1.211969</td>\n",
              "      <td>5.945632</td>\n",
              "      <td>1.675398</td>\n",
              "      <td>18.637650</td>\n",
              "      <td>18.570109</td>\n",
              "      <td>288.249263</td>\n",
              "      <td>285.874681</td>\n",
              "    </tr>\n",
              "    <tr>\n",
              "      <th>50%</th>\n",
              "      <td>3.366365e+10</td>\n",
              "      <td>1.000000</td>\n",
              "      <td>103.138000</td>\n",
              "      <td>618.326893</td>\n",
              "      <td>2.305232</td>\n",
              "      <td>9.592577</td>\n",
              "      <td>2.801129</td>\n",
              "      <td>26.816479</td>\n",
              "      <td>26.731157</td>\n",
              "      <td>542.677264</td>\n",
              "      <td>540.109665</td>\n",
              "    </tr>\n",
              "    <tr>\n",
              "      <th>75%</th>\n",
              "      <td>3.368345e+10</td>\n",
              "      <td>1.000000</td>\n",
              "      <td>163.950000</td>\n",
              "      <td>810.648233</td>\n",
              "      <td>3.117008</td>\n",
              "      <td>12.325661</td>\n",
              "      <td>3.624986</td>\n",
              "      <td>35.102345</td>\n",
              "      <td>35.094571</td>\n",
              "      <td>731.577081</td>\n",
              "      <td>729.237883</td>\n",
              "    </tr>\n",
              "    <tr>\n",
              "      <th>max</th>\n",
              "      <td>8.823971e+14</td>\n",
              "      <td>3.000000</td>\n",
              "      <td>370.225000</td>\n",
              "      <td>1601.945430</td>\n",
              "      <td>6.082198</td>\n",
              "      <td>24.778988</td>\n",
              "      <td>7.220349</td>\n",
              "      <td>70.954996</td>\n",
              "      <td>71.039147</td>\n",
              "      <td>1433.079446</td>\n",
              "      <td>1436.171657</td>\n",
              "    </tr>\n",
              "  </tbody>\n",
              "</table>\n",
              "</div>"
            ],
            "text/plain": [
              "       MSISDN/Number  No_of_xDRsessions  Session_Duration_s       Total_MB  \\\n",
              "count   1.064710e+05      106471.000000       106471.000000  106471.000000   \n",
              "mean    4.515611e+10           1.284152          120.038393     614.727635   \n",
              "std     2.894643e+12           0.535166           76.961036     332.115321   \n",
              "min     3.360100e+10           1.000000            7.142000      33.249009   \n",
              "25%     3.365088e+10           1.000000           72.404000     358.765225   \n",
              "50%     3.366365e+10           1.000000          103.138000     618.326893   \n",
              "75%     3.368345e+10           1.000000          163.950000     810.648233   \n",
              "max     8.823971e+14           3.000000          370.225000    1601.945430   \n",
              "\n",
              "       Social_Media_MB      Google_MB       Email_MB     Youtube_MB  \\\n",
              "count    106471.000000  106471.000000  106471.000000  106471.000000   \n",
              "mean          2.259937       9.687030       2.799435      28.084860   \n",
              "std           1.327487       5.009408       1.481265      13.877322   \n",
              "min           0.001563       0.040330       0.018176       0.078903   \n",
              "25%           1.211969       5.945632       1.675398      18.637650   \n",
              "50%           2.305232       9.592577       2.801129      26.816479   \n",
              "75%           3.117008      12.325661       3.624986      35.102345   \n",
              "max           6.082198      24.778988       7.220349      70.954996   \n",
              "\n",
              "          Netflix_MB      Gaming_MB       Other_MB  \n",
              "count  106471.000000  106471.000000  106471.000000  \n",
              "mean       28.064363     531.768968     530.294771  \n",
              "std        13.926842     311.381853     311.821811  \n",
              "min         0.184569       0.306358       0.149045  \n",
              "25%        18.570109     288.249263     285.874681  \n",
              "50%        26.731157     542.677264     540.109665  \n",
              "75%        35.094571     731.577081     729.237883  \n",
              "max        71.039147    1433.079446    1436.171657  "
            ]
          },
          "metadata": {
            "tags": []
          },
          "execution_count": 30
        }
      ]
    },
    {
      "cell_type": "markdown",
      "metadata": {
        "id": "gXoneXQtToYC"
      },
      "source": [
        "Bivariate Analysis"
      ]
    },
    {
      "cell_type": "code",
      "metadata": {
        "id": "jpuahaA4TVjZ"
      },
      "source": [
        "def plot_bivariate(df,col1,col2,col3,col4):\n",
        "    fig,ax = plt.subplots(2,2,figsize=(12,8),sharey=True)\n",
        "    \n",
        "    ax1=plt.subplot(221)\n",
        "    ax1.scatter(df[col1],df['Total_MB'],c='#AEC6CF',edgecolor='#AEC6CF',linewidth=1,alpha=0.8)\n",
        "    ax1.title.set_text(f'Scatter plot of {col1} against Total_MB')\n",
        "    \n",
        "    ax2=plt.subplot(222)\n",
        "    ax2.scatter(df[col2],df['Total_MB'],c='#AEC6CF',edgecolor='#AEC6CF',linewidth=1,alpha=0.8)\n",
        "    ax2.title.set_text(f'Scatter plot of {col2} against Total_MB')\n",
        "    \n",
        "    ax3=plt.subplot(223)\n",
        "    ax3.scatter(df[col3],df['Total_MB'],c='#AEC6CF',edgecolor='#AEC6CF',linewidth=1,alpha=0.8)\n",
        "    ax3.title.set_text(f'Scatter plot of {col3} against Total_MB')\n",
        "    \n",
        "    ax4=plt.subplot(224)\n",
        "    ax4.scatter(df[col4],df['Total_MB'],c='#AEC6CF',edgecolor='#AEC6CF',linewidth=1,alpha=0.8)\n",
        "    ax4.title.set_text(f'Scatter plot of {col4} against Total_MB')\n",
        "    plt.show()"
      ],
      "execution_count": 57,
      "outputs": []
    },
    {
      "cell_type": "code",
      "metadata": {
        "colab": {
          "base_uri": "https://localhost:8080/",
          "height": 1000
        },
        "id": "9uIDFQeETVmZ",
        "outputId": "3e2733ee-3789-42bb-e820-e65bfd56442a"
      },
      "source": [
        "\n",
        "plot_bivariate(user.head(100),'No_of_xDRsessions','Session_Duration_s')"
      ],
      "execution_count": 32,
      "outputs": [
        {
          "output_type": "display_data",
          "data": {
            "image/png": "[encoded data removed]",
            "text/plain": [
              "<Figure size 1080x2160 with 4 Axes>"
            ]
          },
          "metadata": {
            "tags": [],
            "needs_background": "light"
          }
        }
      ]
    },
    {
      "cell_type": "code",
      "metadata": {
        "id": "0qJA_tXSTVoJ"
      },
      "source": [
        ""
      ],
      "execution_count": 33,
      "outputs": []
    },
    {
      "cell_type": "code",
      "metadata": {
        "colab": {
          "base_uri": "https://localhost:8080/",
          "height": 203
        },
        "id": "mIXR3d2eTVsA",
        "outputId": "90965180-ac2d-47dd-e05e-02b3e9f04458"
      },
      "source": [
        "user['DecileRank']= pd.qcut(user['Session_Duration_s'],q = 5, labels = False)\n",
        "user.sample(5)"
      ],
      "execution_count": 34,
      "outputs": [
        {
          "output_type": "execute_result",
          "data": {
            "text/html": [
              "<div>\n",
              "<style scoped>\n",
              "    .dataframe tbody tr th:only-of-type {\n",
              "        vertical-align: middle;\n",
              "    }\n",
              "\n",
              "    .dataframe tbody tr th {\n",
              "        vertical-align: top;\n",
              "    }\n",
              "\n",
              "    .dataframe thead th {\n",
              "        text-align: right;\n",
              "    }\n",
              "</style>\n",
              "<table border=\"1\" class=\"dataframe\">\n",
              "  <thead>\n",
              "    <tr style=\"text-align: right;\">\n",
              "      <th></th>\n",
              "      <th>MSISDN/Number</th>\n",
              "      <th>No_of_xDRsessions</th>\n",
              "      <th>Session_Duration_s</th>\n",
              "      <th>Total_MB</th>\n",
              "      <th>Social_Media_MB</th>\n",
              "      <th>Google_MB</th>\n",
              "      <th>Email_MB</th>\n",
              "      <th>Youtube_MB</th>\n",
              "      <th>Netflix_MB</th>\n",
              "      <th>Gaming_MB</th>\n",
              "      <th>Other_MB</th>\n",
              "      <th>DecileRank</th>\n",
              "    </tr>\n",
              "  </thead>\n",
              "  <tbody>\n",
              "    <tr>\n",
              "      <th>36298</th>\n",
              "      <td>3.365959e+10</td>\n",
              "      <td>1.0</td>\n",
              "      <td>14.402</td>\n",
              "      <td>121.004255</td>\n",
              "      <td>2.785318</td>\n",
              "      <td>12.849418</td>\n",
              "      <td>2.820541</td>\n",
              "      <td>21.860800</td>\n",
              "      <td>9.704098</td>\n",
              "      <td>66.632426</td>\n",
              "      <td>240.539058</td>\n",
              "      <td>0</td>\n",
              "    </tr>\n",
              "    <tr>\n",
              "      <th>14156</th>\n",
              "      <td>3.362739e+10</td>\n",
              "      <td>1.0</td>\n",
              "      <td>86.395</td>\n",
              "      <td>476.940840</td>\n",
              "      <td>0.680336</td>\n",
              "      <td>9.604321</td>\n",
              "      <td>1.901426</td>\n",
              "      <td>32.539826</td>\n",
              "      <td>17.823105</td>\n",
              "      <td>406.046566</td>\n",
              "      <td>783.465734</td>\n",
              "      <td>1</td>\n",
              "    </tr>\n",
              "    <tr>\n",
              "      <th>27162</th>\n",
              "      <td>3.365099e+10</td>\n",
              "      <td>2.0</td>\n",
              "      <td>324.423</td>\n",
              "      <td>1174.142168</td>\n",
              "      <td>0.782617</td>\n",
              "      <td>18.798976</td>\n",
              "      <td>5.547288</td>\n",
              "      <td>40.938671</td>\n",
              "      <td>19.612662</td>\n",
              "      <td>1066.623712</td>\n",
              "      <td>540.109665</td>\n",
              "      <td>4</td>\n",
              "    </tr>\n",
              "    <tr>\n",
              "      <th>30267</th>\n",
              "      <td>3.365830e+10</td>\n",
              "      <td>2.0</td>\n",
              "      <td>272.092</td>\n",
              "      <td>482.232335</td>\n",
              "      <td>3.944064</td>\n",
              "      <td>10.962211</td>\n",
              "      <td>5.107833</td>\n",
              "      <td>51.802773</td>\n",
              "      <td>42.256424</td>\n",
              "      <td>346.542234</td>\n",
              "      <td>554.341474</td>\n",
              "      <td>4</td>\n",
              "    </tr>\n",
              "    <tr>\n",
              "      <th>72582</th>\n",
              "      <td>3.366973e+10</td>\n",
              "      <td>1.0</td>\n",
              "      <td>22.498</td>\n",
              "      <td>195.126175</td>\n",
              "      <td>1.778233</td>\n",
              "      <td>5.684615</td>\n",
              "      <td>2.837855</td>\n",
              "      <td>19.416304</td>\n",
              "      <td>28.822535</td>\n",
              "      <td>131.573774</td>\n",
              "      <td>558.100614</td>\n",
              "      <td>0</td>\n",
              "    </tr>\n",
              "  </tbody>\n",
              "</table>\n",
              "</div>"
            ],
            "text/plain": [
              "       MSISDN/Number  No_of_xDRsessions  Session_Duration_s     Total_MB  \\\n",
              "36298   3.365959e+10                1.0              14.402   121.004255   \n",
              "14156   3.362739e+10                1.0              86.395   476.940840   \n",
              "27162   3.365099e+10                2.0             324.423  1174.142168   \n",
              "30267   3.365830e+10                2.0             272.092   482.232335   \n",
              "72582   3.366973e+10                1.0              22.498   195.126175   \n",
              "\n",
              "       Social_Media_MB  Google_MB  Email_MB  Youtube_MB  Netflix_MB  \\\n",
              "36298         2.785318  12.849418  2.820541   21.860800    9.704098   \n",
              "14156         0.680336   9.604321  1.901426   32.539826   17.823105   \n",
              "27162         0.782617  18.798976  5.547288   40.938671   19.612662   \n",
              "30267         3.944064  10.962211  5.107833   51.802773   42.256424   \n",
              "72582         1.778233   5.684615  2.837855   19.416304   28.822535   \n",
              "\n",
              "         Gaming_MB    Other_MB  DecileRank  \n",
              "36298    66.632426  240.539058           0  \n",
              "14156   406.046566  783.465734           1  \n",
              "27162  1066.623712  540.109665           4  \n",
              "30267   346.542234  554.341474           4  \n",
              "72582   131.573774  558.100614           0  "
            ]
          },
          "metadata": {
            "tags": []
          },
          "execution_count": 34
        }
      ]
    },
    {
      "cell_type": "code",
      "metadata": {
        "colab": {
          "base_uri": "https://localhost:8080/"
        },
        "id": "JPYqSArATV0c",
        "outputId": "5d6fea10-2549-455a-8e25-67711db1846c"
      },
      "source": [
        "user.groupby('DecileRank')['Total_MB'].sum()"
      ],
      "execution_count": 35,
      "outputs": [
        {
          "output_type": "execute_result",
          "data": {
            "text/plain": [
              "DecileRank\n",
              "0    1.144223e+07\n",
              "1    1.227808e+07\n",
              "2    1.265528e+07\n",
              "3    1.294043e+07\n",
              "4    1.613465e+07\n",
              "Name: Total_MB, dtype: float64"
            ]
          },
          "metadata": {
            "tags": []
          },
          "execution_count": 35
        }
      ]
    },
    {
      "cell_type": "code",
      "metadata": {
        "colab": {
          "base_uri": "https://localhost:8080/",
          "height": 362
        },
        "id": "c4Ly9GXbTCO4",
        "outputId": "126a8d3c-ea32-42c0-bae6-1d2201fba5f7"
      },
      "source": [
        "\n",
        "dataset=user[['Social_Media_MB', 'Google_MB', 'Email_MB','Youtube_MB', 'Netflix_MB', 'Gaming_MB', 'Other_MB']]\n",
        "corr = dataset.corr()\n",
        "sns.heatmap(corr,cmap='Pastel1')"
      ],
      "execution_count": 36,
      "outputs": [
        {
          "output_type": "execute_result",
          "data": {
            "text/plain": [
              "<matplotlib.axes._subplots.AxesSubplot at 0x7f685d447650>"
            ]
          },
          "metadata": {
            "tags": []
          },
          "execution_count": 36
        },
        {
          "output_type": "display_data",
          "data": {
            "image/png": "[encoded data removed]",
            "text/plain": [
              "<Figure size 432x288 with 2 Axes>"
            ]
          },
          "metadata": {
            "tags": [],
            "needs_background": "light"
          }
        }
      ]
    },
    {
      "cell_type": "code",
      "metadata": {
        "id": "SlxiOf8wT78_"
      },
      "source": [
        "#from sklearn.preprocessing import StandardScaler\n",
        "#columns = ['Social_Media_MB', 'Google_MB', 'Email_MB', 'Youtube_MB','Netflix_MB', 'Gaming_MB', 'Other_MB']\n",
        "#dataset[columns]=StandardScaler().fit_transform(dataset[columns])\n",
        "#dataset.head()"
      ],
      "execution_count": 37,
      "outputs": []
    },
    {
      "cell_type": "code",
      "metadata": {
        "id": "SfbiJqyeUAAE"
      },
      "source": [
        "#from sklearn.decomposition import PCA\n",
        "\n",
        "#pca = PCA()\n",
        "#transform=pca.fit_transform(dataset)\n",
        "#dataset_transform=pd.DataFrame(transform,columns = ['Social_Media_Bytes', 'Google_Bytes', 'Email_Bytes', 'Youtube_Bytes','Netflix_Bytes', 'Gaming_Bytes', 'Other_Bytes'])\n",
        "#dataset_transform.head()"
      ],
      "execution_count": 38,
      "outputs": []
    },
    {
      "cell_type": "code",
      "metadata": {
        "colab": {
          "base_uri": "https://localhost:8080/"
        },
        "id": "aepeyPrNWrHO",
        "outputId": "42dff463-cc35-4b2a-cb02-8a42c8b2c3fc"
      },
      "source": [
        "user.info()"
      ],
      "execution_count": 39,
      "outputs": [
        {
          "output_type": "stream",
          "text": [
            "<class 'pandas.core.frame.DataFrame'>\n",
            "RangeIndex: 106471 entries, 0 to 106470\n",
            "Data columns (total 12 columns):\n",
            " #   Column              Non-Null Count   Dtype  \n",
            "---  ------              --------------   -----  \n",
            " 0   MSISDN/Number       106471 non-null  float64\n",
            " 1   No_of_xDRsessions   106471 non-null  float64\n",
            " 2   Session_Duration_s  106471 non-null  float64\n",
            " 3   Total_MB            106471 non-null  float64\n",
            " 4   Social_Media_MB     106471 non-null  float64\n",
            " 5   Google_MB           106471 non-null  float64\n",
            " 6   Email_MB            106471 non-null  float64\n",
            " 7   Youtube_MB          106471 non-null  float64\n",
            " 8   Netflix_MB          106471 non-null  float64\n",
            " 9   Gaming_MB           106471 non-null  float64\n",
            " 10  Other_MB            106471 non-null  float64\n",
            " 11  DecileRank          106471 non-null  int64  \n",
            "dtypes: float64(11), int64(1)\n",
            "memory usage: 9.7 MB\n"
          ],
          "name": "stdout"
        }
      ]
    },
    {
      "cell_type": "code",
      "metadata": {
        "id": "aTKrPPpPW2hX"
      },
      "source": [
        "user.to_csv(\"D:\\work\\processed_telecom.csv\", index=False)"
      ],
      "execution_count": 40,
      "outputs": []
    },
    {
      "cell_type": "code",
      "metadata": {
        "colab": {
          "base_uri": "https://localhost:8080/",
          "height": 203
        },
        "id": "fNnG7qE_XC_h",
        "outputId": "8ee5e35b-cd06-4e66-853e-bb6512f9013e"
      },
      "source": [
        "from sklearn.preprocessing import LabelEncoder\n",
        "\n",
        "lb = LabelEncoder() \n",
        "user['MSISDN/Number'] = lb.fit_transform(user['MSISDN/Number'])\n",
        "user['No_of_xDRsessions'] = lb.fit_transform(user['No_of_xDRsessions'])\n",
        "user['Session_Duration_s'] = lb.fit_transform(user['Session_Duration_s'])\n",
        "user['Total_MB'] = lb.fit_transform(user['Total_MB'])\n",
        "user['Social_Media_MB'] = lb.fit_transform(user['Social_Media_MB'])\n",
        "user['Google_MB'] = lb.fit_transform(user['Google_MB'])\n",
        "\n",
        "user['Email_MB'] = lb.fit_transform(user['Email_MB'])\n",
        "user['Youtube_MB'] = lb.fit_transform(user['Youtube_MB'])\n",
        "user['Netflix_MB'] = lb.fit_transform(user['Netflix_MB'])\n",
        "user['Gaming_MB'] = lb.fit_transform(user['Gaming_MB'])\n",
        "user['Other_MB'] = lb.fit_transform(user['Other_MB'])\n",
        "user['DecileRank'] = lb.fit_transform(user['DecileRank'])\n",
        "user.head()"
      ],
      "execution_count": 41,
      "outputs": [
        {
          "output_type": "execute_result",
          "data": {
            "text/html": [
              "<div>\n",
              "<style scoped>\n",
              "    .dataframe tbody tr th:only-of-type {\n",
              "        vertical-align: middle;\n",
              "    }\n",
              "\n",
              "    .dataframe tbody tr th {\n",
              "        vertical-align: top;\n",
              "    }\n",
              "\n",
              "    .dataframe thead th {\n",
              "        text-align: right;\n",
              "    }\n",
              "</style>\n",
              "<table border=\"1\" class=\"dataframe\">\n",
              "  <thead>\n",
              "    <tr style=\"text-align: right;\">\n",
              "      <th></th>\n",
              "      <th>MSISDN/Number</th>\n",
              "      <th>No_of_xDRsessions</th>\n",
              "      <th>Session_Duration_s</th>\n",
              "      <th>Total_MB</th>\n",
              "      <th>Social_Media_MB</th>\n",
              "      <th>Google_MB</th>\n",
              "      <th>Email_MB</th>\n",
              "      <th>Youtube_MB</th>\n",
              "      <th>Netflix_MB</th>\n",
              "      <th>Gaming_MB</th>\n",
              "      <th>Other_MB</th>\n",
              "      <th>DecileRank</th>\n",
              "    </tr>\n",
              "  </thead>\n",
              "  <tbody>\n",
              "    <tr>\n",
              "      <th>0</th>\n",
              "      <td>0</td>\n",
              "      <td>0</td>\n",
              "      <td>37422</td>\n",
              "      <td>82266</td>\n",
              "      <td>50854</td>\n",
              "      <td>15757</td>\n",
              "      <td>18860</td>\n",
              "      <td>35869</td>\n",
              "      <td>54548</td>\n",
              "      <td>83964</td>\n",
              "      <td>36900</td>\n",
              "      <td>2</td>\n",
              "    </tr>\n",
              "    <tr>\n",
              "      <th>1</th>\n",
              "      <td>1</td>\n",
              "      <td>0</td>\n",
              "      <td>56839</td>\n",
              "      <td>7635</td>\n",
              "      <td>61674</td>\n",
              "      <td>22233</td>\n",
              "      <td>65554</td>\n",
              "      <td>11702</td>\n",
              "      <td>9648</td>\n",
              "      <td>10404</td>\n",
              "      <td>26191</td>\n",
              "      <td>4</td>\n",
              "    </tr>\n",
              "    <tr>\n",
              "      <th>2</th>\n",
              "      <td>2</td>\n",
              "      <td>0</td>\n",
              "      <td>43012</td>\n",
              "      <td>50844</td>\n",
              "      <td>75845</td>\n",
              "      <td>9603</td>\n",
              "      <td>62931</td>\n",
              "      <td>34956</td>\n",
              "      <td>28928</td>\n",
              "      <td>52827</td>\n",
              "      <td>49102</td>\n",
              "      <td>3</td>\n",
              "    </tr>\n",
              "    <tr>\n",
              "      <th>3</th>\n",
              "      <td>3</td>\n",
              "      <td>0</td>\n",
              "      <td>15539</td>\n",
              "      <td>32859</td>\n",
              "      <td>5296</td>\n",
              "      <td>53711</td>\n",
              "      <td>40243</td>\n",
              "      <td>3719</td>\n",
              "      <td>268</td>\n",
              "      <td>37051</td>\n",
              "      <td>2486</td>\n",
              "      <td>0</td>\n",
              "    </tr>\n",
              "    <tr>\n",
              "      <th>4</th>\n",
              "      <td>4</td>\n",
              "      <td>1</td>\n",
              "      <td>11481</td>\n",
              "      <td>99057</td>\n",
              "      <td>68245</td>\n",
              "      <td>93386</td>\n",
              "      <td>65496</td>\n",
              "      <td>84977</td>\n",
              "      <td>90845</td>\n",
              "      <td>99309</td>\n",
              "      <td>83243</td>\n",
              "      <td>0</td>\n",
              "    </tr>\n",
              "  </tbody>\n",
              "</table>\n",
              "</div>"
            ],
            "text/plain": [
              "   MSISDN/Number  No_of_xDRsessions  Session_Duration_s  Total_MB  \\\n",
              "0              0                  0               37422     82266   \n",
              "1              1                  0               56839      7635   \n",
              "2              2                  0               43012     50844   \n",
              "3              3                  0               15539     32859   \n",
              "4              4                  1               11481     99057   \n",
              "\n",
              "   Social_Media_MB  Google_MB  Email_MB  Youtube_MB  Netflix_MB  Gaming_MB  \\\n",
              "0            50854      15757     18860       35869       54548      83964   \n",
              "1            61674      22233     65554       11702        9648      10404   \n",
              "2            75845       9603     62931       34956       28928      52827   \n",
              "3             5296      53711     40243        3719         268      37051   \n",
              "4            68245      93386     65496       84977       90845      99309   \n",
              "\n",
              "   Other_MB  DecileRank  \n",
              "0     36900           2  \n",
              "1     26191           4  \n",
              "2     49102           3  \n",
              "3      2486           0  \n",
              "4     83243           0  "
            ]
          },
          "metadata": {
            "tags": []
          },
          "execution_count": 41
        }
      ]
    },
    {
      "cell_type": "code",
      "metadata": {
        "colab": {
          "base_uri": "https://localhost:8080/"
        },
        "id": "kSN933BiZ7q-",
        "outputId": "5e26b148-2492-4df3-e4e8-418c9a16fc7e"
      },
      "source": [
        "y= user['No_of_xDRsessions']\n",
        "len(y)"
      ],
      "execution_count": 42,
      "outputs": [
        {
          "output_type": "execute_result",
          "data": {
            "text/plain": [
              "106471"
            ]
          },
          "metadata": {
            "tags": []
          },
          "execution_count": 42
        }
      ]
    },
    {
      "cell_type": "code",
      "metadata": {
        "id": "3c8siJ1Las8_"
      },
      "source": [
        "x = user.drop(['No_of_xDRsessions'],axis=1)"
      ],
      "execution_count": 43,
      "outputs": []
    },
    {
      "cell_type": "code",
      "metadata": {
        "id": "Onb-q5Eza27J"
      },
      "source": [
        "len(x)"
      ],
      "execution_count": null,
      "outputs": []
    },
    {
      "cell_type": "code",
      "metadata": {
        "colab": {
          "base_uri": "https://localhost:8080/",
          "height": 494
        },
        "id": "vQ-x2r7Oa5Rr",
        "outputId": "484e7cc8-1f45-40db-a3a4-e14285bfce83"
      },
      "source": [
        "from sklearn.feature_selection import SelectKBest\n",
        "from sklearn.feature_selection import chi2\n",
        "import matplotlib.pyplot as plt\n",
        "\n",
        "\n",
        "\n",
        "# Feature extraction\n",
        "test = SelectKBest(score_func=chi2, k=4)\n",
        "fit = test.fit(x, y)\n",
        "\n",
        "# Summarize scores\n",
        "np.set_printoptions(precision=3)\n",
        "print(fit.scores_)\n",
        "\n",
        "for i in range(len(fit.scores_)):\n",
        "\tprint('Feature %d: %f' % (i, fit.scores_[i]))\n",
        "# plot the scores\n",
        "plt.bar([i for i in range(len(fit.scores_))], fit.scores_)\n",
        "plt.show()\n",
        "#features = fit.transform(x)\n",
        "# Summarize selected features\n",
        "#print(features[0:5,:])"
      ],
      "execution_count": 44,
      "outputs": [
        {
          "output_type": "stream",
          "text": [
            "[4.356e+04 1.662e+08 4.631e+08 3.775e+08 5.362e+08 4.910e+08 5.966e+08\n",
            " 6.012e+08 3.706e+08 3.719e+08 1.313e+04]\n",
            "Feature 0: 43556.743080\n",
            "Feature 1: 166191668.877160\n",
            "Feature 2: 463066196.471679\n",
            "Feature 3: 377539283.477432\n",
            "Feature 4: 536192944.219648\n",
            "Feature 5: 490960552.386734\n",
            "Feature 6: 596596220.677298\n",
            "Feature 7: 601197950.555109\n",
            "Feature 8: 370596209.554241\n",
            "Feature 9: 371939024.025328\n",
            "Feature 10: 13133.628078\n"
          ],
          "name": "stdout"
        },
        {
          "output_type": "display_data",
          "data": {
            "image/png": "[encoded data removed]",
            "text/plain": [
              "<Figure size 432x288 with 1 Axes>"
            ]
          },
          "metadata": {
            "tags": [],
            "needs_background": "light"
          }
        }
      ]
    },
    {
      "cell_type": "code",
      "metadata": {
        "colab": {
          "base_uri": "https://localhost:8080/"
        },
        "id": "6wsavA-tbB_w",
        "outputId": "96be8bd7-ddc3-42db-dc1f-3b8db493292f"
      },
      "source": [
        "selected_features=x[['Google_MB','Email_MB','Youtube_MB','Netflix_MB','Gaming_MB','Other_MB', 'DecileRank','Session_Duration_s','Total_MB','Social_Media_MB']]\n",
        "len(selected_features)\n"
      ],
      "execution_count": 45,
      "outputs": [
        {
          "output_type": "execute_result",
          "data": {
            "text/plain": [
              "106471"
            ]
          },
          "metadata": {
            "tags": []
          },
          "execution_count": 45
        }
      ]
    },
    {
      "cell_type": "code",
      "metadata": {
        "colab": {
          "base_uri": "https://localhost:8080/",
          "height": 203
        },
        "id": "KJcRCBItcCrM",
        "outputId": "4b09ee75-aa3a-49a9-a91d-473984640929"
      },
      "source": [
        "selected_features.head()"
      ],
      "execution_count": 46,
      "outputs": [
        {
          "output_type": "execute_result",
          "data": {
            "text/html": [
              "<div>\n",
              "<style scoped>\n",
              "    .dataframe tbody tr th:only-of-type {\n",
              "        vertical-align: middle;\n",
              "    }\n",
              "\n",
              "    .dataframe tbody tr th {\n",
              "        vertical-align: top;\n",
              "    }\n",
              "\n",
              "    .dataframe thead th {\n",
              "        text-align: right;\n",
              "    }\n",
              "</style>\n",
              "<table border=\"1\" class=\"dataframe\">\n",
              "  <thead>\n",
              "    <tr style=\"text-align: right;\">\n",
              "      <th></th>\n",
              "      <th>Google_MB</th>\n",
              "      <th>Email_MB</th>\n",
              "      <th>Youtube_MB</th>\n",
              "      <th>Netflix_MB</th>\n",
              "      <th>Gaming_MB</th>\n",
              "      <th>Other_MB</th>\n",
              "      <th>DecileRank</th>\n",
              "      <th>Session_Duration_s</th>\n",
              "      <th>Total_MB</th>\n",
              "      <th>Social_Media_MB</th>\n",
              "    </tr>\n",
              "  </thead>\n",
              "  <tbody>\n",
              "    <tr>\n",
              "      <th>0</th>\n",
              "      <td>15757</td>\n",
              "      <td>18860</td>\n",
              "      <td>35869</td>\n",
              "      <td>54548</td>\n",
              "      <td>83964</td>\n",
              "      <td>36900</td>\n",
              "      <td>2</td>\n",
              "      <td>37422</td>\n",
              "      <td>82266</td>\n",
              "      <td>50854</td>\n",
              "    </tr>\n",
              "    <tr>\n",
              "      <th>1</th>\n",
              "      <td>22233</td>\n",
              "      <td>65554</td>\n",
              "      <td>11702</td>\n",
              "      <td>9648</td>\n",
              "      <td>10404</td>\n",
              "      <td>26191</td>\n",
              "      <td>4</td>\n",
              "      <td>56839</td>\n",
              "      <td>7635</td>\n",
              "      <td>61674</td>\n",
              "    </tr>\n",
              "    <tr>\n",
              "      <th>2</th>\n",
              "      <td>9603</td>\n",
              "      <td>62931</td>\n",
              "      <td>34956</td>\n",
              "      <td>28928</td>\n",
              "      <td>52827</td>\n",
              "      <td>49102</td>\n",
              "      <td>3</td>\n",
              "      <td>43012</td>\n",
              "      <td>50844</td>\n",
              "      <td>75845</td>\n",
              "    </tr>\n",
              "    <tr>\n",
              "      <th>3</th>\n",
              "      <td>53711</td>\n",
              "      <td>40243</td>\n",
              "      <td>3719</td>\n",
              "      <td>268</td>\n",
              "      <td>37051</td>\n",
              "      <td>2486</td>\n",
              "      <td>0</td>\n",
              "      <td>15539</td>\n",
              "      <td>32859</td>\n",
              "      <td>5296</td>\n",
              "    </tr>\n",
              "    <tr>\n",
              "      <th>4</th>\n",
              "      <td>93386</td>\n",
              "      <td>65496</td>\n",
              "      <td>84977</td>\n",
              "      <td>90845</td>\n",
              "      <td>99309</td>\n",
              "      <td>83243</td>\n",
              "      <td>0</td>\n",
              "      <td>11481</td>\n",
              "      <td>99057</td>\n",
              "      <td>68245</td>\n",
              "    </tr>\n",
              "  </tbody>\n",
              "</table>\n",
              "</div>"
            ],
            "text/plain": [
              "   Google_MB  Email_MB  Youtube_MB  Netflix_MB  Gaming_MB  Other_MB  \\\n",
              "0      15757     18860       35869       54548      83964     36900   \n",
              "1      22233     65554       11702        9648      10404     26191   \n",
              "2       9603     62931       34956       28928      52827     49102   \n",
              "3      53711     40243        3719         268      37051      2486   \n",
              "4      93386     65496       84977       90845      99309     83243   \n",
              "\n",
              "   DecileRank  Session_Duration_s  Total_MB  Social_Media_MB  \n",
              "0           2               37422     82266            50854  \n",
              "1           4               56839      7635            61674  \n",
              "2           3               43012     50844            75845  \n",
              "3           0               15539     32859             5296  \n",
              "4           0               11481     99057            68245  "
            ]
          },
          "metadata": {
            "tags": []
          },
          "execution_count": 46
        }
      ]
    },
    {
      "cell_type": "code",
      "metadata": {
        "colab": {
          "base_uri": "https://localhost:8080/"
        },
        "id": "M5mQZAYecFPg",
        "outputId": "a28a2af4-9c8a-4bec-b9de-f5615929b925"
      },
      "source": [
        "len(y)"
      ],
      "execution_count": 47,
      "outputs": [
        {
          "output_type": "execute_result",
          "data": {
            "text/plain": [
              "106471"
            ]
          },
          "metadata": {
            "tags": []
          },
          "execution_count": 47
        }
      ]
    },
    {
      "cell_type": "code",
      "metadata": {
        "id": "3Cx7F81icLW1"
      },
      "source": [
        "y.to_csv('test.csv')"
      ],
      "execution_count": 48,
      "outputs": []
    },
    {
      "cell_type": "code",
      "metadata": {
        "id": "532KTKxacN3y"
      },
      "source": [
        "selected_features.to_csv('trian.csv')"
      ],
      "execution_count": 49,
      "outputs": []
    },
    {
      "cell_type": "code",
      "metadata": {
        "id": "HOIWcKd6cQOp"
      },
      "source": [
        "from sklearn.model_selection import train_test_split\n",
        "from sklearn.preprocessing import MinMaxScaler\n",
        "from joblib import dump,load\n",
        "from sklearn.ensemble import RandomForestClassifier\n",
        "from sklearn.preprocessing import MinMaxScaler"
      ],
      "execution_count": 50,
      "outputs": []
    },
    {
      "cell_type": "code",
      "metadata": {
        "id": "PK5cRm1ucitG"
      },
      "source": [
        "import pickle"
      ],
      "execution_count": 51,
      "outputs": []
    },
    {
      "cell_type": "markdown",
      "metadata": {
        "id": "2PiU1dskfivQ"
      },
      "source": [
        ""
      ]
    },
    {
      "cell_type": "code",
      "metadata": {
        "colab": {
          "base_uri": "https://localhost:8080/"
        },
        "id": "v4cVZdnkccjy",
        "outputId": "1c5c99ad-e32d-42e9-c7a8-4e1daa44991e"
      },
      "source": [
        "xtrain,xtest,ytrain,ytest = train_test_split(selected_features,y,test_size=0.2,random_state=40)\n",
        "\n",
        "\n",
        "\n",
        "# creating scaler scale var.\n",
        "norm = MinMaxScaler()\n",
        "# fit the scal\n",
        "norm_fit = norm.fit(xtrain)\n",
        "pickle.dump(norm_fit, open(\"scaler.pkl\", 'wb'))\n",
        "dump(norm_fit,'scaler.joblib')\n",
        "# transfromation of trainig data\n",
        "scal_xtrain = norm_fit.transform(xtrain)\n",
        "\n",
        "# transformation of testing data\n",
        "scal_xtest = norm_fit.transform(xtest)\n",
        "print(scal_xtrain)"
      ],
      "execution_count": 52,
      "outputs": [
        {
          "output_type": "stream",
          "text": [
            "[[0.96  0.954 0.93  ... 0.455 0.941 0.969]\n",
            " [0.651 0.845 0.267 ... 0.383 0.327 0.514]\n",
            " [0.68  0.74  0.33  ... 0.439 0.216 0.55 ]\n",
            " ...\n",
            " [0.776 0.026 0.287 ... 0.503 0.122 0.431]\n",
            " [0.085 0.123 0.382 ... 0.222 0.318 0.478]\n",
            " [0.516 0.514 0.081 ... 0.3   0.362 0.45 ]]\n"
          ],
          "name": "stdout"
        }
      ]
    },
    {
      "cell_type": "code",
      "metadata": {
        "colab": {
          "base_uri": "https://localhost:8080/"
        },
        "id": "Tp1mUzW6ck2z",
        "outputId": "2324a245-5284-43b0-8d86-bde56fda69d7"
      },
      "source": [
        "# create model variable\n",
        "rnd = RandomForestClassifier()\n",
        "  \n",
        "# fit the model\n",
        "fit_rnd = rnd.fit(xtrain,ytrain)\n",
        "  \n",
        "# checking the accuracy score\n",
        "rnd_score = rnd.score(xtest,ytest) \n",
        "  \n",
        "print('score of model is : ',rnd_score)\n",
        "  \n",
        "pickle.dump(rnd, open(\"model.pkl\", 'wb'))\n",
        "#dump(rnd, 'model.joblib')\n"
      ],
      "execution_count": 53,
      "outputs": [
        {
          "output_type": "stream",
          "text": [
            "score of model is :  0.9813101667057995\n"
          ],
          "name": "stdout"
        }
      ]
    },
    {
      "cell_type": "code",
      "metadata": {
        "colab": {
          "base_uri": "https://localhost:8080/"
        },
        "id": "YuY_jLPQcpfV",
        "outputId": "e3a24924-6241-43bf-b633-5fec66803e08"
      },
      "source": [
        "from sklearn.metrics import classification_report\n",
        "x_predict = list(rnd.predict(xtest))\n",
        "print(classification_report(ytest, x_predict))\n",
        "#df = {'predicted':x_predict,'orignal':ytest}\n",
        "#df"
      ],
      "execution_count": 54,
      "outputs": [
        {
          "output_type": "stream",
          "text": [
            "              precision    recall  f1-score   support\n",
            "\n",
            "           0       0.99      0.99      0.99     16161\n",
            "           1       0.96      0.98      0.97      4236\n",
            "           2       0.84      0.76      0.80       898\n",
            "\n",
            "    accuracy                           0.98     21295\n",
            "   macro avg       0.93      0.91      0.92     21295\n",
            "weighted avg       0.98      0.98      0.98     21295\n",
            "\n"
          ],
          "name": "stdout"
        }
      ]
    },
    {
      "cell_type": "code",
      "metadata": {
        "id": "D7w5zRlncun5"
      },
      "source": [
        ""
      ],
      "execution_count": 56,
      "outputs": []
    },
    {
      "cell_type": "code",
      "metadata": {
        "id": "oqsUEXVb8XFo"
      },
      "source": [
        ""
      ],
      "execution_count": 56,
      "outputs": []
    },
    {
      "cell_type": "code",
      "metadata": {
        "id": "_roEiAmN8k37"
      },
      "source": [
        ""
      ],
      "execution_count": null,
      "outputs": []
    }
  ]
}